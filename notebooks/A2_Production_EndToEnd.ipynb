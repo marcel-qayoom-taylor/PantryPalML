{
  "cells": [
    {
      "cell_type": "markdown",
      "metadata": {},
      "source": [
        "# Assignment 2: End-to-End Production Training and Inference for Recipe Recommendation System\n",
        "\n",
        "This notebook demonstrates the full pipeline used in PantryPal:\n",
        "- Environment setup (Colab-compatible)\n",
        "- Data preparation with `TrainingDataBuilder`\n",
        "- Model training, evaluation, and artifact saving using `RecipeRanker`\n",
        "- Real-time inference to generate personalized recommendations\n",
        "- System validation of artifacts and outputs\n",
        "\n"
      ]
    },
    {
      "cell_type": "markdown",
      "metadata": {},
      "source": [
        "## Project Overview\n",
        "This notebook demonstrates the development and deployment of a personalized recipe recommendation system for PantryPal. It shows how we:\n",
        "- Transform real user interaction events and recipe metadata into ML-ready datasets\n",
        "- Train a ranking model that optimizes top-N recommendation quality\n",
        "- Save artifacts for production inference\n",
        "- Generate real-time, personalized recommendations for a given user\n",
        "\n",
        "## Business Problem\n",
        "PantryPal users interact with recipes via views, favorites, and cooking events. The goal is to predict which recipes a user is most likely to engage with next. This is a recommendation ranking problem focused on placing the most relevant recipes at the top of the list.\n",
        "\n",
        "## Outline\n",
        "- Environment setup (Colab-compatible)\n",
        "- Data preparation with `TrainingDataBuilder`\n",
        "- Model training/evaluation with `RecipeRanker`\n",
        "- Real-time inference with `RecipeScorer`\n",
        "- System validation of artifacts and outputs\n"
      ]
    },
    {
      "cell_type": "code",
      "execution_count": 1,
      "metadata": {},
      "outputs": [
        {
          "name": "stdout",
          "output_type": "stream",
          "text": [
            "Environment ready. Project root: /Users/marcelqayoomtaylor/Documents/GitHub/PantryPalML/notebooks\n"
          ]
        }
      ],
      "source": [
        "# Environment Setup (Colab-compatible)\n",
        "import sys, subprocess, os, pathlib\n",
        "\n",
        "IN_COLAB = \"google.colab\" in sys.modules\n",
        "repo_root = pathlib.Path.cwd()\n",
        "\n",
        "if IN_COLAB:\n",
        "    try:\n",
        "        subprocess.run([sys.executable, \"-m\", \"pip\", \"install\", \"-q\",\n",
        "                        \"lightgbm\", \"pandas\", \"numpy\", \"scikit-learn\", \"matplotlib\", \"seaborn\"],\n",
        "                       check=False)\n",
        "    except Exception as e:\n",
        "        print(f\"pip install warning: {e}\")\n",
        "\n",
        "    # Force fresh clone to avoid nested paths\n",
        "    REPO_URL = \"https://github.com/marcel-qayoom-taylor/PantryPalML.git\"\n",
        "    REPO_NAME = \"PantryPalML\"\n",
        "    base = pathlib.Path(\"/content\") if pathlib.Path(\"/content\").exists() else pathlib.Path.cwd()\n",
        "    target = base / REPO_NAME\n",
        "    try:\n",
        "        import shutil\n",
        "        os.chdir(base)\n",
        "        shutil.rmtree(target, ignore_errors=True)\n",
        "        subprocess.run([\"git\", \"-c\", \"advice.detachedHead=false\", \"clone\", \"--depth=1\", \"-q\", REPO_URL, str(target)], check=True, timeout=300)\n",
        "        os.chdir(target)\n",
        "        repo_root = pathlib.Path.cwd()\n",
        "    except Exception as e:\n",
        "        print(\"git clone failed, continuing in current dir:\", e)\n",
        "\n",
        "print(f\"Environment ready. Project root: {repo_root}\")\n"
      ]
    },
    {
      "cell_type": "markdown",
      "metadata": {},
      "source": [
        "## Data Preparation Phase\n",
        "### Objective\n",
        "Transform raw user interaction events and recipe metadata into a structured ML dataset suitable for training a ranking model. This includes feature engineering, negative sampling, and creating train/validation/test splits.\n",
        "\n",
        "### Data Sources\n",
        "- User interaction events (views, favorites, cooks)\n",
        "- Recipe database (ingredients, timing, authors, tags)\n",
        "- Recipe–ingredient relationships for content-based features\n",
        "\n",
        "The `TrainingDataBuilder` orchestrates this pipeline end-to-end.\n"
      ]
    },
    {
      "cell_type": "code",
      "execution_count": 2,
      "metadata": {},
      "outputs": [
        {
          "name": "stdout",
          "output_type": "stream",
          "text": [
            "ML Pipeline Configuration:\n",
            " - output_dir: /Users/marcelqayoomtaylor/Documents/GitHub/PantryPalML/recipe_recommender/output\n",
            " - input_dir: /Users/marcelqayoomtaylor/Documents/GitHub/PantryPalML/recipe_recommender/input\n",
            " - model_dir: /Users/marcelqayoomtaylor/Documents/GitHub/PantryPalML/recipe_recommender/output/hybrid_models\n"
          ]
        }
      ],
      "source": [
        "# Configuration\n",
        "from recipe_recommender.config import get_ml_config\n",
        "\n",
        "config = get_ml_config()\n",
        "print(\"ML Pipeline Configuration:\")\n",
        "print(\" - output_dir:\", config.output_dir)\n",
        "print(\" - input_dir:\", config.input_dir)\n",
        "print(\" - model_dir:\", config.model_dir)\n"
      ]
    },
    {
      "cell_type": "markdown",
      "metadata": {},
      "source": [
        "## Model Training and Evaluation\n",
        "### Objective\n",
        "Train a Learning-to-Rank model using LightGBM's Lambdarank objective to optimize recommendation quality. The model learns to score user–recipe pairs so that more engaging recipes rank higher.\n",
        "\n",
        "### Model Architecture\n",
        "- Algorithm: LightGBM Gradient Boosting with Lambdarank objective\n",
        "- Optimization Target: NDCG@k\n",
        "- Features: Combination of user behavior, recipe content, and compatibility signals\n"
      ]
    },
    {
      "cell_type": "code",
      "execution_count": 3,
      "metadata": {},
      "outputs": [
        {
          "name": "stderr",
          "output_type": "stream",
          "text": [
            "2025-10-03 20:36:31,041 - recipe_recommender.models.training_data_builder - INFO - Initialized Training Data Builder\n",
            "2025-10-03 20:36:31,042 - recipe_recommender.models.training_data_builder - INFO - Loading real recipe database\n",
            "2025-10-03 20:36:31,057 - recipe_recommender.models.training_data_builder - INFO - Loaded 1967 recipes with enhanced features\n",
            "2025-10-03 20:36:31,060 - recipe_recommender.models.training_data_builder - INFO - Loaded 21439 recipe-ingredient relationships\n",
            "2025-10-03 20:36:31,064 - recipe_recommender.models.training_data_builder - INFO - Loaded 2092 ingredients\n",
            "2025-10-03 20:36:31,064 - recipe_recommender.models.training_data_builder - INFO - Extracting user interactions from events\n",
            "2025-10-03 20:36:31,065 - recipe_recommender.models.training_data_builder - INFO -    Processing v1_events_20250827.json...\n",
            "2025-10-03 20:36:31,458 - recipe_recommender.models.training_data_builder - INFO -    Processing v2_events_20250920.json...\n",
            "2025-10-03 20:36:31,599 - recipe_recommender.models.training_data_builder - INFO - Extracted 9490 interactions\n",
            "2025-10-03 20:36:31,601 - recipe_recommender.models.training_data_builder - INFO -    Users: 847\n",
            "2025-10-03 20:36:31,602 - recipe_recommender.models.training_data_builder - INFO -    Recipes: 4152\n",
            "2025-10-03 20:36:31,603 - recipe_recommender.models.training_data_builder - INFO -    Event types: ['Recipe Viewed', 'Recipe Cooked', 'Recipe Link Clicked', 'Recipe Favourited', 'Recipe Added To Collections', 'Recipe Removed From Collections', 'Recipe Cook Started']\n",
            "2025-10-03 20:36:31,604 - recipe_recommender.models.training_data_builder - INFO - Creating user profiles\n",
            "2025-10-03 20:36:31,658 - recipe_recommender.models.training_data_builder - INFO - Created profiles for 847 users\n",
            "2025-10-03 20:36:31,659 - recipe_recommender.models.training_data_builder - INFO - Creating user-recipe training pairs with engagement weighting\n",
            "2025-10-03 20:36:31,686 - recipe_recommender.models.training_data_builder - INFO - Created 4197 engagement-weighted pairs\n",
            "2025-10-03 20:36:31,687 - recipe_recommender.models.training_data_builder - INFO -    Engagement distribution: {'Recipe Viewed': 2935, 'Recipe Link Clicked': 580, 'Recipe Favourited': 413, 'Recipe Cooked': 200, 'Recipe Added To Collections': 61, 'Recipe Cook Started': 8}\n",
            "2025-10-03 20:36:31,688 - recipe_recommender.models.training_data_builder - INFO -    Label distribution: {1.0: 2935, 2.0: 580, 4.0: 413, 5.0: 200, 3.5: 61, 3.0: 8}\n",
            "2025-10-03 20:36:31,688 - recipe_recommender.models.training_data_builder - INFO - Generating negative samples\n",
            "2025-10-03 20:36:32,272 - recipe_recommender.models.training_data_builder - INFO - Created 16788 negative pairs\n",
            "2025-10-03 20:36:32,274 - recipe_recommender.models.training_data_builder - INFO - Total training pairs: 20985\n",
            "2025-10-03 20:36:32,274 - recipe_recommender.models.training_data_builder - INFO -    Positive: 4197 (20.0%)\n",
            "2025-10-03 20:36:32,275 - recipe_recommender.models.training_data_builder - INFO -    Negative: 16788 (80.0%)\n",
            "2025-10-03 20:36:32,276 - recipe_recommender.models.training_data_builder - INFO - Preparing training data for recommendation model\n",
            "2025-10-03 20:36:32,276 - recipe_recommender.models.training_data_builder - INFO - Loading real recipe database\n",
            "2025-10-03 20:36:32,288 - recipe_recommender.models.training_data_builder - INFO - Loaded 1967 recipes with enhanced features\n",
            "2025-10-03 20:36:32,291 - recipe_recommender.models.training_data_builder - INFO - Loaded 21439 recipe-ingredient relationships\n",
            "2025-10-03 20:36:32,294 - recipe_recommender.models.training_data_builder - INFO - Loaded 2092 ingredients\n",
            "2025-10-03 20:36:32,294 - recipe_recommender.models.training_data_builder - INFO - Extracting user interactions from events\n",
            "2025-10-03 20:36:32,295 - recipe_recommender.models.training_data_builder - INFO -    Processing v1_events_20250827.json...\n",
            "2025-10-03 20:36:32,559 - recipe_recommender.models.training_data_builder - INFO -    Processing v2_events_20250920.json...\n",
            "2025-10-03 20:36:32,698 - recipe_recommender.models.training_data_builder - INFO - Extracted 9490 interactions\n",
            "2025-10-03 20:36:32,700 - recipe_recommender.models.training_data_builder - INFO -    Users: 847\n",
            "2025-10-03 20:36:32,701 - recipe_recommender.models.training_data_builder - INFO -    Recipes: 4152\n",
            "2025-10-03 20:36:32,702 - recipe_recommender.models.training_data_builder - INFO -    Event types: ['Recipe Viewed', 'Recipe Cooked', 'Recipe Link Clicked', 'Recipe Favourited', 'Recipe Added To Collections', 'Recipe Removed From Collections', 'Recipe Cook Started']\n",
            "2025-10-03 20:36:32,703 - recipe_recommender.models.training_data_builder - INFO - Loading recipe ID mapping to standardize v1/v2 recipe IDs\n",
            "2025-10-03 20:36:32,705 - recipe_recommender.models.training_data_builder - INFO - Loaded mapping for 88 recipe ID pairs\n",
            "2025-10-03 20:36:32,712 - recipe_recommender.models.training_data_builder - INFO - Recipe ID mapping results:\n",
            "2025-10-03 20:36:32,712 - recipe_recommender.models.training_data_builder - INFO -    v1 interactions processed: 8817\n",
            "2025-10-03 20:36:32,712 - recipe_recommender.models.training_data_builder - INFO -    Successfully mapped to v2 IDs: 222\n",
            "2025-10-03 20:36:32,713 - recipe_recommender.models.training_data_builder - INFO -    Unmapped v1 interactions: 8595\n",
            "2025-10-03 20:36:32,713 - recipe_recommender.models.training_data_builder - INFO -    Total unique recipe IDs after mapping: 4152\n",
            "2025-10-03 20:36:32,714 - recipe_recommender.models.training_data_builder - INFO -    v1 interactions: 8595\n",
            "2025-10-03 20:36:32,715 - recipe_recommender.models.training_data_builder - INFO -    v2 interactions: 673\n",
            "2025-10-03 20:36:32,715 - recipe_recommender.models.training_data_builder - INFO -    v1_mapped_to_v2 interactions: 222\n",
            "2025-10-03 20:36:32,715 - recipe_recommender.models.training_data_builder - INFO - Creating user profiles\n",
            "2025-10-03 20:36:32,784 - recipe_recommender.models.training_data_builder - INFO - Created profiles for 847 users\n",
            "2025-10-03 20:36:32,784 - recipe_recommender.models.training_data_builder - INFO - Creating user-recipe training pairs with engagement weighting\n",
            "2025-10-03 20:36:32,812 - recipe_recommender.models.training_data_builder - INFO - Created 4197 engagement-weighted pairs\n",
            "2025-10-03 20:36:32,813 - recipe_recommender.models.training_data_builder - INFO -    Engagement distribution: {'Recipe Viewed': 2935, 'Recipe Link Clicked': 580, 'Recipe Favourited': 413, 'Recipe Cooked': 200, 'Recipe Added To Collections': 61, 'Recipe Cook Started': 8}\n",
            "2025-10-03 20:36:32,813 - recipe_recommender.models.training_data_builder - INFO -    Label distribution: {1.0: 2935, 2.0: 580, 4.0: 413, 5.0: 200, 3.5: 61, 3.0: 8}\n",
            "2025-10-03 20:36:32,813 - recipe_recommender.models.training_data_builder - INFO - Generating negative samples\n",
            "2025-10-03 20:36:33,388 - recipe_recommender.models.training_data_builder - INFO - Created 16788 negative pairs\n",
            "2025-10-03 20:36:33,391 - recipe_recommender.models.training_data_builder - INFO - Total training pairs: 20985\n",
            "2025-10-03 20:36:33,391 - recipe_recommender.models.training_data_builder - INFO -    Positive: 4197 (20.0%)\n",
            "2025-10-03 20:36:33,391 - recipe_recommender.models.training_data_builder - INFO -    Negative: 16788 (80.0%)\n",
            "2025-10-03 20:36:33,392 - recipe_recommender.models.training_data_builder - INFO - Filtering users with insufficient interactions/positives for ranking\n",
            "2025-10-03 20:36:33,397 - recipe_recommender.models.training_data_builder - INFO -    Kept 563 users eligible for ranking; pairs: 20985 -> 18400\n",
            "2025-10-03 20:36:33,397 - recipe_recommender.models.training_data_builder - INFO - Creating comprehensive training features\n",
            "2025-10-03 20:36:33,422 - recipe_recommender.models.training_data_builder - INFO - Adding author affinity features...\n",
            "2025-10-03 20:36:33,433 - recipe_recommender.models.training_data_builder - INFO - Adding recipe re-engagement features...\n",
            "2025-10-03 20:36:33,448 - recipe_recommender.models.training_data_builder - INFO - Adding ingredient similarity features...\n",
            "2025-10-03 20:36:44,041 - recipe_recommender.models.training_data_builder - INFO -    Average ingredient similarity: 0.0000\n",
            "2025-10-03 20:36:44,042 - recipe_recommender.models.training_data_builder - INFO -    Recipes with common ingredients: 0 / 18400\n",
            "2025-10-03 20:36:44,079 - recipe_recommender.models.training_data_builder - INFO - Created training dataset with 18400 samples and 52 features\n",
            "2025-10-03 20:36:44,080 - recipe_recommender.models.training_data_builder - INFO - Creating train/validation/test splits\n",
            "2025-10-03 20:36:44,095 - recipe_recommender.models.training_data_builder - INFO - Data splits created:\n",
            "2025-10-03 20:36:44,096 - recipe_recommender.models.training_data_builder - INFO -    Train: 11040 samples (60.0%)\n",
            "2025-10-03 20:36:44,096 - recipe_recommender.models.training_data_builder - INFO -    Validation: 3680 samples (20.0%)\n",
            "2025-10-03 20:36:44,096 - recipe_recommender.models.training_data_builder - INFO -    Test: 3680 samples (20.0%)\n",
            "2025-10-03 20:36:44,478 - recipe_recommender.models.training_data_builder - INFO - Saved training data:\n",
            "2025-10-03 20:36:44,479 - recipe_recommender.models.training_data_builder - INFO -    - hybrid_train_data.csv (11040 samples)\n",
            "2025-10-03 20:36:44,479 - recipe_recommender.models.training_data_builder - INFO -    - hybrid_val_data.csv (3680 samples)\n",
            "2025-10-03 20:36:44,479 - recipe_recommender.models.training_data_builder - INFO -    - hybrid_test_data.csv (3680 samples)\n",
            "2025-10-03 20:36:44,479 - recipe_recommender.models.training_data_builder - INFO -    - hybrid_feature_columns.txt (29 features)\n",
            "2025-10-03 20:36:44,480 - recipe_recommender.models.training_data_builder - INFO -    - hybrid_training_metadata.json\n"
          ]
        },
        {
          "name": "stdout",
          "output_type": "stream",
          "text": [
            "Dataset shapes - Train: (11040, 52) Validation: (3680, 52) Test: (3680, 52)\n"
          ]
        }
      ],
      "source": [
        "# Data Preparation (TrainingDataBuilder)\n",
        "from recipe_recommender.models.training_data_builder import TrainingDataBuilder\n",
        "\n",
        "builder = TrainingDataBuilder(config)\n",
        "\n",
        "ok_recipes = builder.load_real_recipe_data()\n",
        "ok_events = builder.extract_user_interactions_from_events()\n",
        "\n",
        "if not (ok_recipes and ok_events):\n",
        "    raise RuntimeError(\"Missing required data files. Ensure recipe and event outputs exist in recipe_recommender/output.\")\n",
        "\n",
        "user_profiles = builder.create_user_profiles()\n",
        "training_pairs = builder.create_user_recipe_pairs()\n",
        "train_df, val_df, test_df = builder.prepare_training_data()\n",
        "\n",
        "print(\"Dataset shapes - Train:\", train_df.shape, \"Validation:\", val_df.shape, \"Test:\", test_df.shape)\n"
      ]
    },
    {
      "cell_type": "markdown",
      "metadata": {},
      "source": [
        "## Learning Task and Lambdarank\n",
        "### Problem Formulation\n",
        "- Input: User–recipe feature vectors with binary engagement labels (1 engaged, 0 otherwise)\n",
        "- Output: Relevance scores for ranking recipes per user\n",
        "- Objective: Learn a scoring function that optimizes top-N ranking\n",
        "\n",
        "### Why Lambdarank for Recommendations?\n",
        "1. Metric alignment: directly optimizes ranking quality (NDCG)\n",
        "2. Handles class imbalance and variable list lengths across users\n",
        "3. Emphasizes top positions via NDCG weighting\n",
        "\n",
        "### Technical Notes\n",
        "- Objective: `objective = \"lambdarank\"`, `metric = \"ndcg\"`\n",
        "- Evaluated at k = (5, 10, 20)\n",
        "- Training uses early stopping on validation NDCG\n"
      ]
    },
    {
      "cell_type": "code",
      "execution_count": 4,
      "metadata": {},
      "outputs": [
        {
          "name": "stderr",
          "output_type": "stream",
          "text": [
            "2025-10-03 20:36:44,609 - recipe_recommender.models.recipe_ranker - INFO - Initialized Recipe Ranker with lightgbm\n",
            "2025-10-03 20:36:44,609 - recipe_recommender.models.recipe_ranker - INFO - Loading training data\n",
            "2025-10-03 20:36:44,748 - recipe_recommender.models.recipe_ranker - INFO - Successfully loaded training data:\n",
            "2025-10-03 20:36:44,749 - recipe_recommender.models.recipe_ranker - INFO -    Train: 11,040 samples\n",
            "2025-10-03 20:36:44,749 - recipe_recommender.models.recipe_ranker - INFO -    Validation: 3,680 samples\n",
            "2025-10-03 20:36:44,750 - recipe_recommender.models.recipe_ranker - INFO -    Test: 3,680 samples\n",
            "2025-10-03 20:36:44,750 - recipe_recommender.models.recipe_ranker - INFO - Loaded 29 feature columns\n",
            "2025-10-03 20:36:44,751 - recipe_recommender.models.recipe_ranker - INFO - Loaded training metadata\n",
            "2025-10-03 20:36:44,764 - recipe_recommender.models.recipe_ranker - INFO - Loaded raw recipe features from enhanced_recipe_features_from_db.csv\n",
            "2025-10-03 20:36:44,765 - recipe_recommender.models.recipe_ranker - INFO - Loaded 1967 recipes for scoring\n",
            "2025-10-03 20:36:44,765 - recipe_recommender.models.recipe_ranker - INFO - Training LIGHTGBM model\n",
            "2025-10-03 20:36:44,766 - recipe_recommender.models.recipe_ranker - INFO - Preparing features for training\n",
            "2025-10-03 20:36:44,766 - recipe_recommender.models.recipe_ranker - INFO - Using 28 numeric features\n",
            "2025-10-03 20:36:44,768 - recipe_recommender.models.recipe_ranker - INFO - Training data shape: (11040, 28)\n",
            "2025-10-03 20:36:44,769 - recipe_recommender.models.recipe_ranker - INFO -    Positive samples: 3,189.0 (28.9%)\n"
          ]
        },
        {
          "name": "stdout",
          "output_type": "stream",
          "text": [
            "Training until validation scores don't improve for 50 rounds\n"
          ]
        },
        {
          "name": "stderr",
          "output_type": "stream",
          "text": [
            "2025-10-03 20:36:44,999 - recipe_recommender.models.recipe_ranker - INFO - Model training completed\n",
            "2025-10-03 20:36:45,000 - recipe_recommender.models.recipe_ranker - INFO - Evaluating model performance\n"
          ]
        },
        {
          "name": "stdout",
          "output_type": "stream",
          "text": [
            "Early stopping, best iteration is:\n",
            "[11]\ttrain's ndcg@5: 0.99962\ttrain's ndcg@10: 0.999601\ttrain's ndcg@20: 0.999672\tvalidation's ndcg@5: 1\tvalidation's ndcg@10: 1\tvalidation's ndcg@20: 1\n"
          ]
        },
        {
          "name": "stderr",
          "output_type": "stream",
          "text": [
            "2025-10-03 20:36:45,263 - recipe_recommender.models.recipe_ranker - INFO - Model performance:\n",
            "2025-10-03 20:36:45,264 - recipe_recommender.models.recipe_ranker - INFO -    NDCG@5: 0.6545\n",
            "2025-10-03 20:36:45,264 - recipe_recommender.models.recipe_ranker - INFO -    NDCG@10: 0.6545\n",
            "2025-10-03 20:36:45,264 - recipe_recommender.models.recipe_ranker - INFO -    Recall@5: 0.9555\n",
            "2025-10-03 20:36:45,264 - recipe_recommender.models.recipe_ranker - INFO -    Recall@10: 0.9894\n",
            "2025-10-03 20:36:45,265 - recipe_recommender.models.recipe_ranker - INFO -    Spearman Correlation: 0.9958\n",
            "2025-10-03 20:36:45,269 - recipe_recommender.models.recipe_ranker - INFO - Saving trained model\n",
            "2025-10-03 20:36:45,271 - recipe_recommender.models.recipe_ranker - INFO - Model saved to: hybrid_lightgbm_model.txt\n",
            "2025-10-03 20:36:45,271 - recipe_recommender.models.recipe_ranker - INFO - Metadata saved to: hybrid_lightgbm_metadata.json\n"
          ]
        },
        {
          "name": "stdout",
          "output_type": "stream",
          "text": [
            "Top 10 Most Important Features:\n",
            "                          feature   importance\n",
            "20  user_recipe_interaction_count  7023.643156\n",
            "21         user_recipe_max_rating  4744.439364\n",
            "22         user_recipe_avg_rating  2948.425036\n",
            "3                      rating_std    47.143476\n",
            "1                      avg_rating    45.242657\n",
            "4                  unique_recipes    24.522861\n",
            "0              total_interactions    21.124030\n",
            "7                engagement_score    14.515322\n",
            "6            interactions_per_day     9.407445\n",
            "2                    total_rating     8.828276\n",
            "Training complete! Model artifacts saved to: /Users/marcelqayoomtaylor/Documents/GitHub/PantryPalML/recipe_recommender/output/hybrid_models\n"
          ]
        }
      ],
      "source": [
        "# Model Training and Evaluation (RecipeRanker)\n",
        "from recipe_recommender.models.recipe_ranker import RecipeRanker\n",
        "\n",
        "ranker = RecipeRanker(config)\n",
        "ranker.load_training_data()\n",
        "ranker.load_recipe_features()\n",
        "ranker.train_model()\n",
        "ranker.evaluate_model()\n",
        "\n",
        "importance = ranker.get_feature_importance()\n",
        "print(\"Top 10 Most Important Features:\")\n",
        "print(importance.head(10))\n",
        "\n",
        "ranker.save_model()\n",
        "print(\"Training complete! Model artifacts saved to:\", config.model_dir)\n"
      ]
    },
    {
      "cell_type": "markdown",
      "metadata": {},
      "source": [
        "## Real-Time Recommendation Generation\n",
        "### Objective\n",
        "Demonstrate how the trained model generates personalized recommendations in production.\n",
        "\n",
        "### Workflow\n",
        "1. User Context Retrieval: Fetch interaction history from analytics\n",
        "2. Model Loading: Load LightGBM model and metadata\n",
        "3. Feature Engineering: Build user profile features on-the-fly\n",
        "4. Recipe Scoring: Generate relevance scores for all recipes\n",
        "5. Ranking & Selection: Return top-N recommendations\n",
        "\n",
        "`RecipeScorer` orchestrates this end-to-end.\n"
      ]
    },
    {
      "cell_type": "code",
      "execution_count": null,
      "metadata": {},
      "outputs": [
        {
          "name": "stderr",
          "output_type": "stream",
          "text": [
            "2025-10-03 20:36:45,284 - recipe_recommender.etl.fetch_user_interactions - INFO - Initialized UserInteractionFetcher\n",
            "2025-10-03 20:36:45,284 - recipe_recommender.etl.fetch_user_interactions - INFO -    Events file: /Users/marcelqayoomtaylor/Documents/GitHub/PantryPalML/recipe_recommender/output/combined_events.csv\n",
            "2025-10-03 20:36:45,285 - recipe_recommender.etl.fetch_user_interactions - INFO -    Tracking 8 event types\n",
            "2025-10-03 20:36:45,285 - recipe_recommender.etl.fetch_user_interactions - INFO - Fetching interactions for user: afcacbe1-eaba-415f-b03e-14ed682af65e\n",
            "2025-10-03 20:36:45,286 - recipe_recommender.etl.fetch_user_interactions - INFO - Reading events file in chunks\n",
            "2025-10-03 20:36:45,374 - recipe_recommender.etl.fetch_user_interactions - INFO -    Processed 50,000 rows, found 0 matches...\n",
            "2025-10-03 20:36:45,402 - recipe_recommender.etl.fetch_user_interactions - INFO - Found 74 recipe interactions for user afcacbe1-eaba-415f-b03e-14ed682af65e\n",
            "2025-10-03 20:36:45,402 - recipe_recommender.etl.fetch_user_interactions - INFO -    Processed 63,662 total events\n",
            "2025-10-03 20:36:45,403 - recipe_recommender.etl.fetch_user_interactions - INFO -    Time range: 2025-06-03 to 2025-08-24\n",
            "2025-10-03 20:36:45,403 - recipe_recommender.etl.fetch_user_interactions - INFO -    Event breakdown: {'Recipe Added To Collections': 10, 'Recipe Removed From Collections': 2, 'Recipe Link Clicked': 31, 'Recipe Cook Started': 9, 'Recipe Cooked': 8, 'Recipe Search Queried': 14}\n",
            "2025-10-03 20:36:45,404 - recipe_recommender.inference.recipe_scorer - INFO - Initializing Recipe Scorer\n",
            "2025-10-03 20:36:45,406 - recipe_recommender.inference.recipe_scorer - INFO - Loading trained model components...\n",
            "2025-10-03 20:36:45,410 - recipe_recommender.inference.recipe_scorer - INFO - Loaded LIGHTGBM model\n",
            "2025-10-03 20:36:45,410 - recipe_recommender.inference.recipe_scorer - INFO - Loaded model metadata with 28 features\n",
            "2025-10-03 20:36:45,424 - recipe_recommender.inference.recipe_scorer - INFO - Loaded raw recipe features from enhanced_recipe_features_from_db.csv\n",
            "2025-10-03 20:36:45,425 - recipe_recommender.inference.recipe_scorer - INFO - Loaded 1967 recipes for scoring\n",
            "2025-10-03 20:36:45,428 - recipe_recommender.inference.recipe_scorer - INFO - Loaded 21439 recipe-ingredient relationships\n",
            "2025-10-03 20:36:45,429 - recipe_recommender.inference.recipe_scorer - INFO - Scoring 1967 recipes for user\n"
          ]
        },
        {
          "name": "stdout",
          "output_type": "stream",
          "text": [
            "Generating recommendations for user: afcacbe1-eaba-415f-b03e-14ed682af65e\n"
          ]
        },
        {
          "name": "stderr",
          "output_type": "stream",
          "text": [
            "2025-10-03 20:36:52,461 - recipe_recommender.inference.recipe_scorer - INFO - Generated scores for 1967 recipes\n",
            "2025-10-03 20:36:52,461 - recipe_recommender.inference.recipe_scorer - INFO -    Score range: -0.5466 - 0.5295\n",
            "2025-10-03 20:36:52,462 - recipe_recommender.inference.recipe_scorer - INFO -    No threshold; selecting by top-N\n",
            "2025-10-03 20:36:52,462 - recipe_recommender.inference.recipe_scorer - INFO -    Returning top 100 recommendations\n"
          ]
        },
        {
          "name": "stdout",
          "output_type": "stream",
          "text": [
            "Generated 100 personalized recommendations:\n"
          ]
        },
        {
          "data": {
            "text/html": [
              "<div>\n",
              "<style scoped>\n",
              "    .dataframe tbody tr th:only-of-type {\n",
              "        vertical-align: middle;\n",
              "    }\n",
              "\n",
              "    .dataframe tbody tr th {\n",
              "        vertical-align: top;\n",
              "    }\n",
              "\n",
              "    .dataframe thead th {\n",
              "        text-align: right;\n",
              "    }\n",
              "</style>\n",
              "<table border=\"1\" class=\"dataframe\">\n",
              "  <thead>\n",
              "    <tr style=\"text-align: right;\">\n",
              "      <th></th>\n",
              "      <th>recipe_id</th>\n",
              "      <th>recipe_name</th>\n",
              "      <th>score</th>\n",
              "    </tr>\n",
              "  </thead>\n",
              "  <tbody>\n",
              "    <tr>\n",
              "      <th>0</th>\n",
              "      <td>1915</td>\n",
              "      <td>Chicken Katsu</td>\n",
              "      <td>0.529541</td>\n",
              "    </tr>\n",
              "    <tr>\n",
              "      <th>1</th>\n",
              "      <td>7</td>\n",
              "      <td>Apple Cinnamon French Toast</td>\n",
              "      <td>0.529541</td>\n",
              "    </tr>\n",
              "    <tr>\n",
              "      <th>2</th>\n",
              "      <td>275</td>\n",
              "      <td>Chocolate Self Saucing Pudding</td>\n",
              "      <td>0.529541</td>\n",
              "    </tr>\n",
              "    <tr>\n",
              "      <th>3</th>\n",
              "      <td>1099</td>\n",
              "      <td>Tiramisu</td>\n",
              "      <td>0.529541</td>\n",
              "    </tr>\n",
              "    <tr>\n",
              "      <th>4</th>\n",
              "      <td>1333</td>\n",
              "      <td>Cauliflower Hash Browns</td>\n",
              "      <td>0.518306</td>\n",
              "    </tr>\n",
              "    <tr>\n",
              "      <th>...</th>\n",
              "      <td>...</td>\n",
              "      <td>...</td>\n",
              "      <td>...</td>\n",
              "    </tr>\n",
              "    <tr>\n",
              "      <th>95</th>\n",
              "      <td>1276</td>\n",
              "      <td>Snickerdoodle Bread</td>\n",
              "      <td>-0.546572</td>\n",
              "    </tr>\n",
              "    <tr>\n",
              "      <th>96</th>\n",
              "      <td>1277</td>\n",
              "      <td>Paleo Pumpkin Bread</td>\n",
              "      <td>-0.546572</td>\n",
              "    </tr>\n",
              "    <tr>\n",
              "      <th>97</th>\n",
              "      <td>1278</td>\n",
              "      <td>Pumpkin Granola</td>\n",
              "      <td>-0.546572</td>\n",
              "    </tr>\n",
              "    <tr>\n",
              "      <th>98</th>\n",
              "      <td>1279</td>\n",
              "      <td>Healthy Blueberry Muffins</td>\n",
              "      <td>-0.546572</td>\n",
              "    </tr>\n",
              "    <tr>\n",
              "      <th>99</th>\n",
              "      <td>1280</td>\n",
              "      <td>Sugar Cookie Overnight Protein Oatmeal</td>\n",
              "      <td>-0.546572</td>\n",
              "    </tr>\n",
              "  </tbody>\n",
              "</table>\n",
              "<p>100 rows × 3 columns</p>\n",
              "</div>"
            ],
            "text/plain": [
              "   recipe_id                             recipe_name     score\n",
              "0       1915                           Chicken Katsu  0.529541\n",
              "1          7             Apple Cinnamon French Toast  0.529541\n",
              "2        275          Chocolate Self Saucing Pudding  0.529541\n",
              "3       1099                                Tiramisu  0.529541\n",
              "4       1333                 Cauliflower Hash Browns  0.518306\n",
              "..       ...                                     ...       ...\n",
              "95      1276                     Snickerdoodle Bread -0.546572\n",
              "96      1277                     Paleo Pumpkin Bread -0.546572\n",
              "97      1278                         Pumpkin Granola -0.546572\n",
              "98      1279               Healthy Blueberry Muffins -0.546572\n",
              "99      1280  Sugar Cookie Overnight Protein Oatmeal -0.546572\n",
              "\n",
              "[100 rows x 3 columns]"
            ]
          },
          "metadata": {},
          "output_type": "display_data"
        }
      ],
      "source": [
        "# Inference: Generate Recommendations\n",
        "from recipe_recommender.etl.fetch_user_interactions import UserInteractionFetcher\n",
        "from recipe_recommender.inference.recipe_scorer import RecipeScorer\n",
        "\n",
        "fetcher = UserInteractionFetcher(config)\n",
        "\n",
        "# Provide a known test user or implement auto-discovery if desired\n",
        "sample_user_id = 'afcacbe1-eaba-415f-b03e-14ed682af65e'\n",
        "print(\"Generating recommendations for user:\", sample_user_id)\n",
        "\n",
        "interactions = fetcher.fetch_user_interactions(sample_user_id)\n",
        "\n",
        "scorer = RecipeScorer(config)\n",
        "result = scorer.get_user_recipe_recommendations(\n",
        "    user_id=sample_user_id,\n",
        "    interaction_history=interactions,\n",
        "    n_recommendations=10,\n",
        ")\n",
        "\n",
        "import pandas as pd\n",
        "recs = pd.DataFrame(result.get(\"recommendations\", []))\n",
        "if recs.empty:\n",
        "    print(\"No recommendations generated. Check user interactions and model artifacts.\")\n",
        "else:\n",
        "    print(f\"Generated {len(recs)} personalized recommendations:\")\n",
        "    display(recs[[\"recipe_id\", \"recipe_name\", \"score\"]].head(100))\n"
      ]
    },
    {
      "cell_type": "markdown",
      "metadata": {},
      "source": [
        "## System Validation\n",
        "### Objective\n",
        "Verify all necessary artifacts exist and the recommendation output looks sane.\n",
        "- Checks model files and metadata\n",
        "- Confirms recipe feature database exists\n",
        "- Verifies recommendations were generated and have reasonable score variance\n"
      ]
    },
    {
      "cell_type": "code",
      "execution_count": 6,
      "metadata": {},
      "outputs": [
        {
          "name": "stdout",
          "output_type": "stream",
          "text": [
            "=== Production Pipeline Validation ===\n",
            "\n",
            "1. Validating Model Artifacts...\n",
            "   ✓ Trained model file found\n",
            "   ✓ Model metadata file found\n",
            "\n",
            "2. Validating Recipe Database...\n",
            "   ✓ Recipe features database found\n",
            "\n",
            "3. Validating Recommendation Output...\n",
            "   ✓ Generated 100 recommendations\n",
            "   ✓ Score range: -0.546572 to 0.529541 (variance: 1.076113)\n",
            "\n",
            "==================================================\n",
            "✅ VALIDATION PASSED\n",
            "System Status: Ready for Production\n"
          ]
        }
      ],
      "source": [
        "# System Validation\n",
        "print(\"=== Production Pipeline Validation ===\\n\")\n",
        "\n",
        "validation_errors = []\n",
        "validation_warnings = []\n",
        "\n",
        "# Check 1: Model artifacts\n",
        "print(\"1. Validating Model Artifacts...\")\n",
        "model_file = config.model_dir / \"hybrid_lightgbm_model.txt\"\n",
        "metadata_file = config.model_dir / \"hybrid_lightgbm_metadata.json\"\n",
        "\n",
        "if not model_file.exists():\n",
        "    validation_errors.append(f\"Critical: Missing trained model file at {model_file}\")\n",
        "else:\n",
        "    print(\"   ✓ Trained model file found\")\n",
        "\n",
        "if not metadata_file.exists():\n",
        "    validation_errors.append(f\"Critical: Missing model metadata file at {metadata_file}\")\n",
        "else:\n",
        "    print(\"   ✓ Model metadata file found\")\n",
        "\n",
        "# Check 2: Recipe database\n",
        "print(\"\\n2. Validating Recipe Database...\")\n",
        "recipe_features_file = config.output_dir / \"enhanced_recipe_features_from_db.csv\"\n",
        "if not recipe_features_file.exists():\n",
        "    validation_errors.append(f\"Critical: Missing recipe features file at {recipe_features_file}\")\n",
        "else:\n",
        "    print(\"   ✓ Recipe features database found\")\n",
        "\n",
        "# Check 3: Recommendations existence\n",
        "print(\"\\n3. Validating Recommendation Output...\")\n",
        "recommendations = result.get(\"recommendations\", [])\n",
        "if len(recommendations) == 0:\n",
        "    validation_errors.append(\"Critical: No recommendations generated\")\n",
        "else:\n",
        "    print(f\"   ✓ Generated {len(recommendations)} recommendations\")\n",
        "\n",
        "# Check 4: Score variance\n",
        "if recommendations:\n",
        "    scores = [rec.get('score', 0) for rec in recommendations]\n",
        "    score_range = max(scores) - min(scores)\n",
        "    if score_range < 0.001:\n",
        "        validation_warnings.append(\"Warning: Very low score variance - model may not be discriminating\")\n",
        "    else:\n",
        "        print(f\"   ✓ Score range: {min(scores):.6f} to {max(scores):.6f} (variance: {score_range:.6f})\")\n",
        "\n",
        "print(\"\\n\" + \"=\"*50)\n",
        "if validation_errors:\n",
        "    print(\"❌ VALIDATION FAILED\")\n",
        "    print(\"Critical Issues:\")\n",
        "    for e in validation_errors:\n",
        "        print(\"   -\", e)\n",
        "elif validation_warnings:\n",
        "    print(\"⚠️  VALIDATION PASSED WITH WARNINGS\")\n",
        "    print(\"Warnings:\")\n",
        "    for w in validation_warnings:\n",
        "        print(\"   -\", w)\n",
        "else:\n",
        "    print(\"✅ VALIDATION PASSED\")\n",
        "    print(\"System Status: Ready for Production\")\n"
      ]
    },
    {
      "cell_type": "markdown",
      "metadata": {},
      "source": [
        "## Notes for Grader\n",
        "- Training uses ranking-appropriate metrics (NDCG@k, Recall@k, Spearman) rather than AUC.\n",
        "- Recipe complexity uses `ingredient_count` and `total_time` only (no prep/cook split).\n",
        "- Inputs are versioned under `recipe_recommender/output/` to support cloud execution without ETL credentials.\n"
      ]
    }
  ],
  "metadata": {
    "kernelspec": {
      "display_name": ".venv",
      "language": "python",
      "name": "python3"
    },
    "language_info": {
      "codemirror_mode": {
        "name": "ipython",
        "version": 3
      },
      "file_extension": ".py",
      "mimetype": "text/x-python",
      "name": "python",
      "nbconvert_exporter": "python",
      "pygments_lexer": "ipython3",
      "version": "3.12.9"
    }
  },
  "nbformat": 4,
  "nbformat_minor": 2
}
