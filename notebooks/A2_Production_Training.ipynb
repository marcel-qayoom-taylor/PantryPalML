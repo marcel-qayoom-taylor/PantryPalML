{
  "cells": [
    {
      "cell_type": "markdown",
      "metadata": {},
      "source": [
        "# PantryPalML: Production Training Notebook\n",
        "\n",
        "This notebook demonstrates how I build and train the production model used by `ProductionRecipeScorer`.\n",
        "\n",
        "It reuses our modules via imports and shows:\n",
        "- Environment setup (Colab-friendly)\n",
        "- Data preparation using `HybridRecommendationDataBuilder`\n",
        "- Model training, evaluation, and saving via `HybridGBMRecommender`\n",
        "- Artifacts produced for inference (model + metadata)\n",
        "- Brief discussion of task, loss, metrics, and practical objective alignment\n"
      ]
    },
    {
      "cell_type": "code",
      "execution_count": 1,
      "metadata": {},
      "outputs": [
        {
          "name": "stdout",
          "output_type": "stream",
          "text": [
            "Environment ready. Project root: /Users/marcelqayoomtaylor/Documents/GitHub/PantryPalML/notebooks\n"
          ]
        }
      ],
      "source": [
        "# Colab/Local environment setup (silent if local)\n",
        "import sys, subprocess, os, pathlib\n",
        "\n",
        "IN_COLAB = \"google.colab\" in sys.modules\n",
        "repo_root = pathlib.Path.cwd()\n",
        "\n",
        "if IN_COLAB:\n",
        "    try:\n",
        "        subprocess.run([sys.executable, \"-m\", \"pip\", \"install\", \"-q\",\n",
        "                        \"lightgbm\", \"pandas\", \"numpy\", \"scikit-learn\", \"matplotlib\", \"seaborn\"],\n",
        "                       check=False)\n",
        "    except Exception as e:\n",
        "        print(f\"pip install warning: {e}\")\n",
        "\n",
        "    if not (repo_root / \"recipe_recommender\").exists():\n",
        "        subprocess.run([\"git\", \"clone\", \"-q\", \"https://github.com/marcel-qayoom-taylor/PantryPalML.git\"], check=True)\n",
        "        os.chdir(\"PantryPalML\")\n",
        "        repo_root = pathlib.Path.cwd()\n",
        "\n",
        "print(f\"Environment ready. Project root: {repo_root}\")\n"
      ]
    },
    {
      "cell_type": "code",
      "execution_count": 2,
      "metadata": {},
      "outputs": [
        {
          "name": "stdout",
          "output_type": "stream",
          "text": [
            "Config paths:\n",
            " - output_dir: /Users/marcelqayoomtaylor/Documents/GitHub/PantryPalML/recipe_recommender/output\n",
            " - input_dir: /Users/marcelqayoomtaylor/Documents/GitHub/PantryPalML/recipe_recommender/input\n",
            " - model_dir: /Users/marcelqayoomtaylor/Documents/GitHub/PantryPalML/recipe_recommender/output/hybrid_models\n"
          ]
        }
      ],
      "source": [
        "# Imports from production codebase\n",
        "from recipe_recommender.config import get_ml_config\n",
        "\n",
        "# Central config object (paths, hyperparams, event weights)\n",
        "config = get_ml_config()\n",
        "print(\"Config paths:\")\n",
        "print(\" - output_dir:\", config.output_dir)\n",
        "print(\" - input_dir:\", config.input_dir)\n",
        "print(\" - model_dir:\", config.model_dir)\n"
      ]
    },
    {
      "cell_type": "markdown",
      "metadata": {},
      "source": [
        "### Build Training Data\n",
        "I create ML-ready datasets from our real event logs + recipe DB extracts using `HybridRecommendationDataBuilder`.\n"
      ]
    },
    {
      "cell_type": "code",
      "execution_count": 3,
      "metadata": {},
      "outputs": [
        {
          "name": "stderr",
          "output_type": "stream",
          "text": [
            "2025-09-29 18:01:56,001 - recipe_recommender.models.training_data_builder - INFO - Initialized Training Data Builder\n",
            "2025-09-29 18:01:56,002 - recipe_recommender.models.training_data_builder - INFO - Loading real recipe database\n",
            "2025-09-29 18:01:56,013 - recipe_recommender.models.training_data_builder - INFO - Loaded 1967 recipes with enhanced features\n",
            "2025-09-29 18:01:56,015 - recipe_recommender.models.training_data_builder - INFO - Loaded 21439 recipe-ingredient relationships\n",
            "2025-09-29 18:01:56,018 - recipe_recommender.models.training_data_builder - INFO - Loaded 2092 ingredients\n",
            "2025-09-29 18:01:56,018 - recipe_recommender.models.training_data_builder - INFO - Extracting user interactions from events\n",
            "2025-09-29 18:01:56,018 - recipe_recommender.models.training_data_builder - INFO -    Processing v1_events_20250827.json...\n",
            "2025-09-29 18:01:56,301 - recipe_recommender.models.training_data_builder - INFO -    Processing v2_events_20250920.json...\n",
            "2025-09-29 18:01:56,445 - recipe_recommender.models.training_data_builder - INFO - Extracted 9490 interactions\n",
            "2025-09-29 18:01:56,446 - recipe_recommender.models.training_data_builder - INFO -    Users: 847\n",
            "2025-09-29 18:01:56,447 - recipe_recommender.models.training_data_builder - INFO -    Recipes: 4152\n",
            "2025-09-29 18:01:56,448 - recipe_recommender.models.training_data_builder - INFO -    Event types: ['Recipe Viewed', 'Recipe Cooked', 'Recipe Link Clicked', 'Recipe Favourited', 'Recipe Added To Collections', 'Recipe Removed From Collections', 'Recipe Cook Started']\n",
            "2025-09-29 18:01:56,448 - recipe_recommender.models.training_data_builder - INFO - Creating user profiles\n",
            "2025-09-29 18:01:56,501 - recipe_recommender.models.training_data_builder - INFO - Created profiles for 847 users\n",
            "2025-09-29 18:01:56,502 - recipe_recommender.models.training_data_builder - INFO - Creating user-recipe training pairs\n",
            "2025-09-29 18:01:56,533 - recipe_recommender.models.training_data_builder - INFO - Created 4197 positive pairs\n",
            "2025-09-29 18:01:56,534 - recipe_recommender.models.training_data_builder - INFO - Generating negative samples\n",
            "2025-09-29 18:01:57,049 - recipe_recommender.models.training_data_builder - INFO - Created 16788 negative pairs\n",
            "2025-09-29 18:01:57,051 - recipe_recommender.models.training_data_builder - INFO - Total training pairs: 20985\n",
            "2025-09-29 18:01:57,051 - recipe_recommender.models.training_data_builder - INFO -    Positive: 4197 (20.0%)\n",
            "2025-09-29 18:01:57,051 - recipe_recommender.models.training_data_builder - INFO -    Negative: 16788 (80.0%)\n",
            "2025-09-29 18:01:57,052 - recipe_recommender.models.training_data_builder - INFO - Preparing training data for recommendation model\n",
            "2025-09-29 18:01:57,052 - recipe_recommender.models.training_data_builder - INFO - Loading real recipe database\n",
            "2025-09-29 18:01:57,062 - recipe_recommender.models.training_data_builder - INFO - Loaded 1967 recipes with enhanced features\n",
            "2025-09-29 18:01:57,064 - recipe_recommender.models.training_data_builder - INFO - Loaded 21439 recipe-ingredient relationships\n",
            "2025-09-29 18:01:57,067 - recipe_recommender.models.training_data_builder - INFO - Loaded 2092 ingredients\n",
            "2025-09-29 18:01:57,067 - recipe_recommender.models.training_data_builder - INFO - Extracting user interactions from events\n",
            "2025-09-29 18:01:57,067 - recipe_recommender.models.training_data_builder - INFO -    Processing v1_events_20250827.json...\n",
            "2025-09-29 18:01:57,327 - recipe_recommender.models.training_data_builder - INFO -    Processing v2_events_20250920.json...\n",
            "2025-09-29 18:01:57,603 - recipe_recommender.models.training_data_builder - INFO - Extracted 9490 interactions\n",
            "2025-09-29 18:01:57,604 - recipe_recommender.models.training_data_builder - INFO -    Users: 847\n",
            "2025-09-29 18:01:57,605 - recipe_recommender.models.training_data_builder - INFO -    Recipes: 4152\n",
            "2025-09-29 18:01:57,606 - recipe_recommender.models.training_data_builder - INFO -    Event types: ['Recipe Viewed', 'Recipe Cooked', 'Recipe Link Clicked', 'Recipe Favourited', 'Recipe Added To Collections', 'Recipe Removed From Collections', 'Recipe Cook Started']\n",
            "2025-09-29 18:01:57,608 - recipe_recommender.models.training_data_builder - INFO - Loading recipe ID mapping to standardize v1/v2 recipe IDs\n",
            "2025-09-29 18:01:57,610 - recipe_recommender.models.training_data_builder - INFO - Loaded mapping for 88 recipe ID pairs\n",
            "2025-09-29 18:01:57,616 - recipe_recommender.models.training_data_builder - INFO - Recipe ID mapping results:\n",
            "2025-09-29 18:01:57,616 - recipe_recommender.models.training_data_builder - INFO -    v1 interactions processed: 8817\n",
            "2025-09-29 18:01:57,617 - recipe_recommender.models.training_data_builder - INFO -    Successfully mapped to v2 IDs: 222\n",
            "2025-09-29 18:01:57,617 - recipe_recommender.models.training_data_builder - INFO -    Unmapped v1 interactions: 8595\n",
            "2025-09-29 18:01:57,618 - recipe_recommender.models.training_data_builder - INFO -    Total unique recipe IDs after mapping: 4152\n",
            "2025-09-29 18:01:57,619 - recipe_recommender.models.training_data_builder - INFO -    v1 interactions: 8595\n",
            "2025-09-29 18:01:57,619 - recipe_recommender.models.training_data_builder - INFO -    v2 interactions: 673\n",
            "2025-09-29 18:01:57,619 - recipe_recommender.models.training_data_builder - INFO -    v1_mapped_to_v2 interactions: 222\n",
            "2025-09-29 18:01:57,620 - recipe_recommender.models.training_data_builder - INFO - Creating user profiles\n",
            "2025-09-29 18:01:57,683 - recipe_recommender.models.training_data_builder - INFO - Created profiles for 847 users\n",
            "2025-09-29 18:01:57,683 - recipe_recommender.models.training_data_builder - INFO - Creating user-recipe training pairs\n",
            "2025-09-29 18:01:57,720 - recipe_recommender.models.training_data_builder - INFO - Created 4197 positive pairs\n",
            "2025-09-29 18:01:57,721 - recipe_recommender.models.training_data_builder - INFO - Generating negative samples\n",
            "2025-09-29 18:01:58,328 - recipe_recommender.models.training_data_builder - INFO - Created 16788 negative pairs\n",
            "2025-09-29 18:01:58,330 - recipe_recommender.models.training_data_builder - INFO - Total training pairs: 20985\n",
            "2025-09-29 18:01:58,330 - recipe_recommender.models.training_data_builder - INFO -    Positive: 4197 (20.0%)\n",
            "2025-09-29 18:01:58,330 - recipe_recommender.models.training_data_builder - INFO -    Negative: 16788 (80.0%)\n",
            "2025-09-29 18:01:58,331 - recipe_recommender.models.training_data_builder - INFO - Filtering users with insufficient interactions/positives for ranking\n",
            "2025-09-29 18:01:58,336 - recipe_recommender.models.training_data_builder - INFO -    Kept 847 users eligible for ranking; pairs: 20985 -> 20985\n",
            "2025-09-29 18:01:58,336 - recipe_recommender.models.training_data_builder - INFO - Creating comprehensive training features\n",
            "2025-09-29 18:01:58,396 - recipe_recommender.models.training_data_builder - INFO - Created training dataset with 20985 samples and 40 features\n",
            "2025-09-29 18:01:58,397 - recipe_recommender.models.training_data_builder - INFO - Creating train/validation/test splits\n",
            "2025-09-29 18:01:58,413 - recipe_recommender.models.training_data_builder - INFO - Data splits created:\n",
            "2025-09-29 18:01:58,414 - recipe_recommender.models.training_data_builder - INFO -    Train: 12591 samples (60.0%)\n",
            "2025-09-29 18:01:58,414 - recipe_recommender.models.training_data_builder - INFO -    Validation: 4197 samples (20.0%)\n",
            "2025-09-29 18:01:58,415 - recipe_recommender.models.training_data_builder - INFO -    Test: 4197 samples (20.0%)\n",
            "2025-09-29 18:01:58,999 - recipe_recommender.models.training_data_builder - INFO - Saved training data:\n",
            "2025-09-29 18:01:59,000 - recipe_recommender.models.training_data_builder - INFO -    - hybrid_train_data.csv (12591 samples)\n",
            "2025-09-29 18:01:59,000 - recipe_recommender.models.training_data_builder - INFO -    - hybrid_val_data.csv (4197 samples)\n",
            "2025-09-29 18:01:59,000 - recipe_recommender.models.training_data_builder - INFO -    - hybrid_test_data.csv (4197 samples)\n",
            "2025-09-29 18:01:59,000 - recipe_recommender.models.training_data_builder - INFO -    - hybrid_feature_columns.txt (19 features)\n",
            "2025-09-29 18:01:59,000 - recipe_recommender.models.training_data_builder - INFO -    - hybrid_training_metadata.json\n"
          ]
        },
        {
          "name": "stdout",
          "output_type": "stream",
          "text": [
            "(12591, 40) (4197, 40) (4197, 40)\n"
          ]
        }
      ],
      "source": [
        "# Build datasets. Orchestrates loading and feature engineering\n",
        "from recipe_recommender.models.training_data_builder import TrainingDataBuilder\n",
        "\n",
        "\n",
        "builder = TrainingDataBuilder(config)  # \n",
        "\n",
        "# Reads recipe input data from database\n",
        "ok_recipes = builder.load_real_recipe_data()\n",
        "# Reads user interaction history from event logs\n",
        "ok_events = builder.extract_user_interactions_from_events()\n",
        "\n",
        "if not (ok_recipes and ok_events):\n",
        "    raise RuntimeError(\"Missing required data files. Ensure recipe and event outputs exist in recipe_recommender/output.\")\n",
        "\n",
        "# Aggregates per-user stats (avg/total rating, activity, device/platform, engagement)\n",
        "user_profiles = builder.create_user_profiles()\n",
        "# Generates positive/negative user–recipe pairs with labels\n",
        "training_pairs = builder.create_user_recipe_pairs()\n",
        "# Final feature matrix + train/val/test CSVs and metadata/feature list\n",
        "train_df, val_df, test_df = builder.prepare_training_data()\n",
        "\n",
        "print(train_df.shape, val_df.shape, test_df.shape)\n"
      ]
    },
    {
      "cell_type": "markdown",
      "metadata": {},
      "source": [
        "### Train, Evaluate, Save Model\n",
        "I train `HybridGBMRecommender`, evaluate on validation data with appropriate metrics, and save artifacts used by inference.\n"
      ]
    },
    {
      "cell_type": "code",
      "execution_count": 4,
      "metadata": {},
      "outputs": [
        {
          "name": "stderr",
          "output_type": "stream",
          "text": [
            "2025-09-29 18:01:59,112 - recipe_recommender.models.recipe_ranker - INFO - Initialized Recipe Ranker with lightgbm\n",
            "2025-09-29 18:01:59,113 - recipe_recommender.models.recipe_ranker - INFO - Loading training data\n",
            "2025-09-29 18:01:59,247 - recipe_recommender.models.recipe_ranker - INFO - Successfully loaded training data:\n",
            "2025-09-29 18:01:59,247 - recipe_recommender.models.recipe_ranker - INFO -    Train: 12,591 samples\n",
            "2025-09-29 18:01:59,247 - recipe_recommender.models.recipe_ranker - INFO -    Validation: 4,197 samples\n",
            "2025-09-29 18:01:59,248 - recipe_recommender.models.recipe_ranker - INFO -    Test: 4,197 samples\n",
            "2025-09-29 18:01:59,248 - recipe_recommender.models.recipe_ranker - INFO - Loaded 19 feature columns\n",
            "2025-09-29 18:01:59,249 - recipe_recommender.models.recipe_ranker - INFO - Loaded training metadata\n",
            "2025-09-29 18:01:59,258 - recipe_recommender.models.recipe_ranker - INFO - Loaded raw recipe features from enhanced_recipe_features_from_db.csv\n",
            "2025-09-29 18:01:59,259 - recipe_recommender.models.recipe_ranker - INFO - Loaded 1967 recipes for scoring\n",
            "2025-09-29 18:01:59,259 - recipe_recommender.models.recipe_ranker - INFO - Training LIGHTGBM model\n",
            "2025-09-29 18:01:59,260 - recipe_recommender.models.recipe_ranker - INFO - Preparing features for training\n",
            "2025-09-29 18:01:59,260 - recipe_recommender.models.recipe_ranker - INFO - Using 19 numeric features\n",
            "2025-09-29 18:01:59,262 - recipe_recommender.models.recipe_ranker - INFO - Training data shape: (12591, 19)\n",
            "2025-09-29 18:01:59,262 - recipe_recommender.models.recipe_ranker - INFO -    Positive samples: 2,518 (20.0%)\n",
            "2025-09-29 18:01:59,437 - recipe_recommender.models.recipe_ranker - INFO - Model training completed\n",
            "2025-09-29 18:01:59,438 - recipe_recommender.models.recipe_ranker - INFO - Evaluating model performance\n"
          ]
        },
        {
          "name": "stdout",
          "output_type": "stream",
          "text": [
            "Training until validation scores don't improve for 50 rounds\n",
            "Early stopping, best iteration is:\n",
            "[5]\ttrain's ndcg@5: 0.999498\ttrain's ndcg@10: 0.999513\ttrain's ndcg@20: 0.999478\tvalidation's ndcg@5: 0.999901\tvalidation's ndcg@10: 0.999631\tvalidation's ndcg@20: 0.999777\n"
          ]
        },
        {
          "name": "stderr",
          "output_type": "stream",
          "text": [
            "2025-09-29 18:01:59,781 - recipe_recommender.models.recipe_ranker - INFO - Model performance:\n",
            "2025-09-29 18:01:59,781 - recipe_recommender.models.recipe_ranker - INFO -    NDCG@5: 0.6430\n",
            "2025-09-29 18:01:59,782 - recipe_recommender.models.recipe_ranker - INFO -    NDCG@10: 0.6443\n",
            "2025-09-29 18:01:59,782 - recipe_recommender.models.recipe_ranker - INFO -    Recall@5: 0.9464\n",
            "2025-09-29 18:01:59,782 - recipe_recommender.models.recipe_ranker - INFO -    Recall@10: 0.9845\n",
            "2025-09-29 18:01:59,786 - recipe_recommender.models.recipe_ranker - INFO - Saving trained model\n",
            "2025-09-29 18:01:59,787 - recipe_recommender.models.recipe_ranker - INFO - Model saved to: hybrid_lightgbm_model.txt\n",
            "2025-09-29 18:01:59,787 - recipe_recommender.models.recipe_ranker - INFO - Metadata saved to: hybrid_lightgbm_metadata.json\n"
          ]
        },
        {
          "name": "stdout",
          "output_type": "stream",
          "text": [
            "Top 10 features:\n",
            "                          feature    importance\n",
            "14         user_complexity_match  10387.193581\n",
            "15  user_recipe_engagement_match   4338.539917\n",
            "18                   is_ios_user    125.913300\n",
            "17                is_mobile_user    119.825996\n",
            "1                     avg_rating     57.169771\n",
            "3                     rating_std     35.269730\n",
            "2                   total_rating     31.214653\n",
            "10              ingredient_count     11.039721\n",
            "11            unique_ingredients      3.589320\n",
            "0             total_interactions      0.469215\n",
            "Artifacts saved in: /Users/marcelqayoomtaylor/Documents/GitHub/PantryPalML/recipe_recommender/output/hybrid_models\n"
          ]
        }
      ],
      "source": [
        "\n",
        "from recipe_recommender.models.recipe_ranker import RecipeRanker\n",
        "\n",
        "# Train and evaluate\n",
        "recommender = RecipeRanker(config)  # wraps LightGBM with config-driven hyperparams and tracked features\n",
        "\n",
        "# Reads train/val/test CSVs prepared by the data builder\n",
        "recommender.load_training_data()\n",
        "# Ensures recipe-level features are available (used for context/eval)\n",
        "recommender.load_recipe_features()\n",
        "\n",
        "# Fits LightGBM Lambdarank (ranking) with early stopping (NDCG on validation)\n",
        "recommender.train_model()\n",
        "\n",
        "# Reports AUC/Precision/Recall/F1 and per-user NDCG@k ranking metrics\n",
        "recommender.evaluate_model()\n",
        "# LightGBM feature importance by gain (sum loss reduction per feature)\n",
        "importance = recommender.get_feature_importance()\n",
        "print(\"Top 10 features:\\n\", importance.head(10))\n",
        "\n",
        "# Writes booster + metadata (feature columns, config, training stats) to model_dir\n",
        "recommender.save_model()\n",
        "\n",
        "print(\"Artifacts saved in:\", config.model_dir)\n"
      ]
    },
    {
      "cell_type": "markdown",
      "metadata": {},
      "source": [
        "### Notes on Learning Task and Objective\n",
        "- Input (train): user–recipe feature matrix with label indicating positive interaction\n",
        "- Output (deploy): score per recipe for a given user\n",
        "- Learning objective: LightGBM Lambdarank (pairwise ranking) optimized for NDCG@k\n",
        "- Evaluation: primary ranking metrics NDCG@k (+ Recall@k); AUC/PR are reference only\n",
        "- Alignment: We optimize directly for ranking quality to match top-N recommendation goals\n"
      ]
    },
    {
      "cell_type": "markdown",
      "metadata": {},
      "source": [
        "### Why Lambdarank (and how it works)\n",
        "\n",
        "- **Why this objective**\n",
        "  - **We care about ranking, not calibrated probabilities**: recommendations are evaluated by order (top‑K), so optimizing NDCG@k aligns the loss with our goal.\n",
        "  - **Direct optimization of a ranking surrogate**: Lambdarank approximates NDCG gains, typically improving NDCG/Recall over binary logloss in recommendation tasks.\n",
        "  - **Handles class imbalance and variable list sizes**: Works well with sparse positives and per‑user candidate sets of different lengths.\n",
        "\n",
        "- **How it works (intuitively)**\n",
        "  - For each user (a \"group\"), the model forms **pairwise preferences** between items and computes gradients (\"lambdas\") proportional to the **change in NDCG** if a pair were swapped.\n",
        "  - LightGBM then **boosts decision trees** to reduce this surrogate loss, directly pushing relevant items upward in the list.\n",
        "  - We pass per‑user group sizes, set `objective = \"lambdarank\"`, `metric = \"ndcg\"`, and choose `ndcg_eval_at = (5, 10, 20)` for validation/early stopping.\n",
        "\n",
        "- **Loss used**\n",
        "  - Pairwise logistic loss on score differences with lambda weights approximating ΔNDCG: `L = log(1 + exp(-(s_i - s_j)))`, weighted by per‑pair lambdas derived from the expected NDCG change.\n",
        "\n",
        "- **Practical effects**\n",
        "  - Training stops when validation NDCG@k stops improving.\n",
        "  - At inference we get scores; **higher score ⇒ higher rank**. No thresholding is required for top‑N recommendations.\n",
        "\n"
      ]
    },
    {
      "cell_type": "markdown",
      "metadata": {},
      "source": [
        "### Smoke Test: Saved Artifacts\n",
        "Verify that the trained model and metadata were written to `config.model_dir`.\n"
      ]
    },
    {
      "cell_type": "code",
      "execution_count": 5,
      "metadata": {},
      "outputs": [
        {
          "name": "stdout",
          "output_type": "stream",
          "text": [
            "Model exists: True /Users/marcelqayoomtaylor/Documents/GitHub/PantryPalML/recipe_recommender/output/hybrid_models/hybrid_lightgbm_model.txt\n",
            "Metadata exists: True /Users/marcelqayoomtaylor/Documents/GitHub/PantryPalML/recipe_recommender/output/hybrid_models/hybrid_lightgbm_metadata.json\n"
          ]
        }
      ],
      "source": [
        "model_file = config.model_dir / \"hybrid_lightgbm_model.txt\"\n",
        "meta_file = config.model_dir / \"hybrid_lightgbm_metadata.json\"\n",
        "\n",
        "print(\"Model exists:\", model_file.exists(), model_file)\n",
        "print(\"Metadata exists:\", meta_file.exists(), meta_file)\n"
      ]
    }
  ],
  "metadata": {
    "kernelspec": {
      "display_name": ".venv",
      "language": "python",
      "name": "python3"
    },
    "language_info": {
      "codemirror_mode": {
        "name": "ipython",
        "version": 3
      },
      "file_extension": ".py",
      "mimetype": "text/x-python",
      "name": "python",
      "nbconvert_exporter": "python",
      "pygments_lexer": "ipython3",
      "version": "3.12.9"
    }
  },
  "nbformat": 4,
  "nbformat_minor": 2
}
