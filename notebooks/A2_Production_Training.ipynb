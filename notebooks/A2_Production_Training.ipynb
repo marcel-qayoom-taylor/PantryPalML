{
  "cells": [
    {
      "cell_type": "markdown",
      "metadata": {},
      "source": [
        "# PantryPalML: Production Training Notebook\n",
        "\n",
        "This notebook demonstrates how we build and train the actual production model used by `ProductionRecipeScorer`.\n",
        "\n",
        "It reuses our production modules via imports (no code duplication) and shows:\n",
        "- Environment setup (Colab-friendly)\n",
        "- Data preparation using `HybridRecommendationDataBuilder`\n",
        "- Model training, evaluation, and saving via `HybridGBMRecommender`\n",
        "- Artifacts produced for inference (model + metadata)\n",
        "- Brief discussion of task, loss, metrics, and practical objective alignment\n"
      ]
    },
    {
      "cell_type": "code",
      "execution_count": 1,
      "metadata": {},
      "outputs": [
        {
          "name": "stdout",
          "output_type": "stream",
          "text": [
            "Environment ready. Project root: /Users/marcelqayoomtaylor/Documents/GitHub/PantryPalML/notebooks\n"
          ]
        }
      ],
      "source": [
        "# Colab/Local environment setup (silent if local)\n",
        "import sys, subprocess, os, pathlib\n",
        "\n",
        "IN_COLAB = \"google.colab\" in sys.modules\n",
        "repo_root = pathlib.Path.cwd()\n",
        "\n",
        "if IN_COLAB:\n",
        "    try:\n",
        "        subprocess.run([sys.executable, \"-m\", \"pip\", \"install\", \"-q\",\n",
        "                        \"lightgbm\", \"pandas\", \"numpy\", \"scikit-learn\", \"matplotlib\", \"seaborn\"],\n",
        "                       check=False)\n",
        "    except Exception as e:\n",
        "        print(f\"pip install warning: {e}\")\n",
        "\n",
        "    if not (repo_root / \"recipe_recommender\").exists():\n",
        "        subprocess.run([\"git\", \"clone\", \"-q\", \"https://github.com/marcel-qayoom-taylor/PantryPalML.git\"], check=True)\n",
        "        os.chdir(\"PantryPalML\")\n",
        "        repo_root = pathlib.Path.cwd()\n",
        "\n",
        "print(f\"Environment ready. Project root: {repo_root}\")\n"
      ]
    },
    {
      "cell_type": "code",
      "execution_count": null,
      "metadata": {},
      "outputs": [
        {
          "name": "stdout",
          "output_type": "stream",
          "text": [
            "Config paths:\n",
            " - output_dir: /Users/marcelqayoomtaylor/Documents/GitHub/PantryPalML/recipe_recommender/output\n",
            " - input_dir: /Users/marcelqayoomtaylor/Documents/GitHub/PantryPalML/recipe_recommender/input\n",
            " - model_dir: /Users/marcelqayoomtaylor/Documents/GitHub/PantryPalML/recipe_recommender/output/hybrid_models\n"
          ]
        }
      ],
      "source": [
        "# Imports from production codebase\n",
        "from pathlib import Path\n",
        "from recipe_recommender.config import get_ml_config\n",
        "from recipe_recommender.models.hybrid_recommendation_data_builder import HybridRecommendationDataBuilder\n",
        "from recipe_recommender.models.hybrid_gbm_recommender import HybridGBMRecommender\n",
        "\n",
        "# Central config object (paths, hyperparams, event weights)\n",
        "config = get_ml_config()\n",
        "print(\"Config paths:\")\n",
        "print(\" - output_dir:\", config.output_dir)\n",
        "print(\" - input_dir:\", config.input_dir)\n",
        "print(\" - model_dir:\", config.model_dir)\n"
      ]
    },
    {
      "cell_type": "markdown",
      "metadata": {},
      "source": [
        "### Build Training Data\n",
        "We create ML-ready datasets from our real event logs + recipe DB extracts using `HybridRecommendationDataBuilder`.\n"
      ]
    },
    {
      "cell_type": "code",
      "execution_count": null,
      "metadata": {},
      "outputs": [
        {
          "name": "stderr",
          "output_type": "stream",
          "text": [
            "2025-09-20 16:28:13,401 - recipe_recommender.models.hybrid_recommendation_data_builder - INFO - 🏗️ Initialized Hybrid Recommendation Data Builder\n",
            "2025-09-20 16:28:13,402 - recipe_recommender.models.hybrid_recommendation_data_builder - INFO - 📊 Loading real recipe database...\n",
            "2025-09-20 16:28:13,419 - recipe_recommender.models.hybrid_recommendation_data_builder - INFO - ✅ Loaded 1967 recipes with enhanced features\n",
            "2025-09-20 16:28:13,422 - recipe_recommender.models.hybrid_recommendation_data_builder - INFO - ✅ Loaded 21439 recipe-ingredient relationships\n",
            "2025-09-20 16:28:13,425 - recipe_recommender.models.hybrid_recommendation_data_builder - INFO - ✅ Loaded 2092 ingredients\n",
            "2025-09-20 16:28:13,426 - recipe_recommender.models.hybrid_recommendation_data_builder - INFO - 📱 Extracting user interactions from events...\n",
            "2025-09-20 16:28:13,426 - recipe_recommender.models.hybrid_recommendation_data_builder - INFO -    Processing v1_events_20250827.json...\n",
            "2025-09-20 16:28:13,710 - recipe_recommender.models.hybrid_recommendation_data_builder - INFO -    Processing v2_events_20250827.json...\n",
            "2025-09-20 16:28:13,767 - recipe_recommender.models.hybrid_recommendation_data_builder - INFO - ✅ Extracted 9104 interactions\n",
            "2025-09-20 16:28:13,769 - recipe_recommender.models.hybrid_recommendation_data_builder - INFO -    Users: 831\n",
            "2025-09-20 16:28:13,770 - recipe_recommender.models.hybrid_recommendation_data_builder - INFO -    Recipes: 4117\n",
            "2025-09-20 16:28:13,771 - recipe_recommender.models.hybrid_recommendation_data_builder - INFO -    Event types: ['Recipe Viewed', 'Recipe Cooked', 'Recipe Link Clicked', 'Recipe Favourited', 'Recipe Cook Started', 'Recipe Added To Collections', 'Recipe Removed From Collections']\n",
            "2025-09-20 16:28:13,772 - recipe_recommender.models.hybrid_recommendation_data_builder - INFO - 👤 Creating user profiles...\n",
            "2025-09-20 16:28:13,831 - recipe_recommender.models.hybrid_recommendation_data_builder - INFO - ✅ Created profiles for 831 users\n",
            "2025-09-20 16:28:13,831 - recipe_recommender.models.hybrid_recommendation_data_builder - INFO - 🔗 Creating user-recipe training pairs...\n",
            "2025-09-20 16:28:13,865 - recipe_recommender.models.hybrid_recommendation_data_builder - INFO - ✅ Created 4146 positive pairs\n",
            "2025-09-20 16:28:13,866 - recipe_recommender.models.hybrid_recommendation_data_builder - INFO - 🔄 Generating negative samples...\n",
            "2025-09-20 16:28:14,432 - recipe_recommender.models.hybrid_recommendation_data_builder - INFO - ✅ Created 16584 negative pairs\n",
            "2025-09-20 16:28:14,435 - recipe_recommender.models.hybrid_recommendation_data_builder - INFO - 📊 Total training pairs: 20730\n",
            "2025-09-20 16:28:14,435 - recipe_recommender.models.hybrid_recommendation_data_builder - INFO -    Positive: 4146 (20.0%)\n",
            "2025-09-20 16:28:14,435 - recipe_recommender.models.hybrid_recommendation_data_builder - INFO -    Negative: 16584 (80.0%)\n",
            "2025-09-20 16:28:14,436 - recipe_recommender.models.hybrid_recommendation_data_builder - INFO - 🎯 PREPARING TRAINING DATA FOR HYBRID RECOMMENDATION MODEL\n",
            "2025-09-20 16:28:14,437 - recipe_recommender.models.hybrid_recommendation_data_builder - INFO - ======================================================================\n",
            "2025-09-20 16:28:14,437 - recipe_recommender.models.hybrid_recommendation_data_builder - INFO - 📊 Loading real recipe database...\n",
            "2025-09-20 16:28:14,447 - recipe_recommender.models.hybrid_recommendation_data_builder - INFO - ✅ Loaded 1967 recipes with enhanced features\n",
            "2025-09-20 16:28:14,451 - recipe_recommender.models.hybrid_recommendation_data_builder - INFO - ✅ Loaded 21439 recipe-ingredient relationships\n",
            "2025-09-20 16:28:14,454 - recipe_recommender.models.hybrid_recommendation_data_builder - INFO - ✅ Loaded 2092 ingredients\n",
            "2025-09-20 16:28:14,455 - recipe_recommender.models.hybrid_recommendation_data_builder - INFO - 📱 Extracting user interactions from events...\n",
            "2025-09-20 16:28:14,455 - recipe_recommender.models.hybrid_recommendation_data_builder - INFO -    Processing v1_events_20250827.json...\n",
            "2025-09-20 16:28:14,725 - recipe_recommender.models.hybrid_recommendation_data_builder - INFO -    Processing v2_events_20250827.json...\n",
            "2025-09-20 16:28:14,780 - recipe_recommender.models.hybrid_recommendation_data_builder - INFO - ✅ Extracted 9104 interactions\n",
            "2025-09-20 16:28:14,781 - recipe_recommender.models.hybrid_recommendation_data_builder - INFO -    Users: 831\n",
            "2025-09-20 16:28:14,783 - recipe_recommender.models.hybrid_recommendation_data_builder - INFO -    Recipes: 4117\n",
            "2025-09-20 16:28:14,784 - recipe_recommender.models.hybrid_recommendation_data_builder - INFO -    Event types: ['Recipe Viewed', 'Recipe Cooked', 'Recipe Link Clicked', 'Recipe Favourited', 'Recipe Cook Started', 'Recipe Added To Collections', 'Recipe Removed From Collections']\n",
            "2025-09-20 16:28:14,785 - recipe_recommender.models.hybrid_recommendation_data_builder - INFO - 👤 Creating user profiles...\n",
            "2025-09-20 16:28:14,836 - recipe_recommender.models.hybrid_recommendation_data_builder - INFO - ✅ Created profiles for 831 users\n",
            "2025-09-20 16:28:14,836 - recipe_recommender.models.hybrid_recommendation_data_builder - INFO - 🔗 Creating user-recipe training pairs...\n",
            "2025-09-20 16:28:14,869 - recipe_recommender.models.hybrid_recommendation_data_builder - INFO - ✅ Created 4146 positive pairs\n",
            "2025-09-20 16:28:14,869 - recipe_recommender.models.hybrid_recommendation_data_builder - INFO - 🔄 Generating negative samples...\n",
            "2025-09-20 16:28:15,433 - recipe_recommender.models.hybrid_recommendation_data_builder - INFO - ✅ Created 16584 negative pairs\n",
            "2025-09-20 16:28:15,435 - recipe_recommender.models.hybrid_recommendation_data_builder - INFO - 📊 Total training pairs: 20730\n",
            "2025-09-20 16:28:15,435 - recipe_recommender.models.hybrid_recommendation_data_builder - INFO -    Positive: 4146 (20.0%)\n",
            "2025-09-20 16:28:15,436 - recipe_recommender.models.hybrid_recommendation_data_builder - INFO -    Negative: 16584 (80.0%)\n",
            "2025-09-20 16:28:15,437 - recipe_recommender.models.hybrid_recommendation_data_builder - INFO - 🔧 Creating comprehensive training features...\n",
            "2025-09-20 16:28:15,503 - recipe_recommender.models.hybrid_recommendation_data_builder - INFO - ✅ Created training dataset with 20730 samples and 40 features\n",
            "2025-09-20 16:28:15,503 - recipe_recommender.models.hybrid_recommendation_data_builder - INFO - 📊 Creating train/validation/test splits...\n",
            "2025-09-20 16:28:15,520 - recipe_recommender.models.hybrid_recommendation_data_builder - INFO - ✅ Data splits created:\n",
            "2025-09-20 16:28:15,520 - recipe_recommender.models.hybrid_recommendation_data_builder - INFO -    Train: 12438 samples (60.0%)\n",
            "2025-09-20 16:28:15,521 - recipe_recommender.models.hybrid_recommendation_data_builder - INFO -    Validation: 4146 samples (20.0%)\n",
            "2025-09-20 16:28:15,521 - recipe_recommender.models.hybrid_recommendation_data_builder - INFO -    Test: 4146 samples (20.0%)\n",
            "2025-09-20 16:28:16,009 - recipe_recommender.models.hybrid_recommendation_data_builder - INFO - \n",
            "💾 Saved training data:\n",
            "2025-09-20 16:28:16,009 - recipe_recommender.models.hybrid_recommendation_data_builder - INFO -    - hybrid_train_data.csv (12438 samples)\n",
            "2025-09-20 16:28:16,010 - recipe_recommender.models.hybrid_recommendation_data_builder - INFO -    - hybrid_val_data.csv (4146 samples)\n",
            "2025-09-20 16:28:16,010 - recipe_recommender.models.hybrid_recommendation_data_builder - INFO -    - hybrid_test_data.csv (4146 samples)\n",
            "2025-09-20 16:28:16,010 - recipe_recommender.models.hybrid_recommendation_data_builder - INFO -    - hybrid_feature_columns.txt (36 features)\n",
            "2025-09-20 16:28:16,010 - recipe_recommender.models.hybrid_recommendation_data_builder - INFO -    - hybrid_training_metadata.json\n"
          ]
        },
        {
          "name": "stdout",
          "output_type": "stream",
          "text": [
            "(12438, 40) (4146, 40) (4146, 40)\n"
          ]
        }
      ],
      "source": [
        "# Build datasets. Orchestrates loading and feature engineering\n",
        "builder = HybridRecommendationDataBuilder(config)  # \n",
        "\n",
        "# Reads recipe input data\n",
        "ok_recipes = builder.load_real_recipe_data()\n",
        "# Reads user interaction historuy\n",
        "ok_events = builder.extract_user_interactions_from_events()\n",
        "\n",
        "if not (ok_recipes and ok_events):\n",
        "    raise RuntimeError(\"Missing required data files. Ensure recipe and event outputs exist in recipe_recommender/output.\")\n",
        "\n",
        "# Aggregates per-user stats (avg/total rating, activity, device/platform, engagement)\n",
        "user_profiles = builder.create_user_profiles()\n",
        "# Generates positive/negative user–recipe pairs with labels\n",
        "training_pairs = builder.create_user_recipe_pairs()\n",
        "# Final feature matrix + train/val/test CSVs and metadata/feature list\n",
        "train_df, val_df, test_df = builder.prepare_training_data()\n",
        "\n",
        "print(train_df.shape, val_df.shape, test_df.shape)\n"
      ]
    },
    {
      "cell_type": "markdown",
      "metadata": {},
      "source": [
        "### Train, Evaluate, Save Model\n",
        "We train `HybridGBMRecommender`, evaluate on validation data with appropriate metrics, and save artifacts used by inference.\n"
      ]
    },
    {
      "cell_type": "code",
      "execution_count": null,
      "metadata": {},
      "outputs": [
        {
          "name": "stderr",
          "output_type": "stream",
          "text": [
            "2025-09-20 16:28:16,016 - recipe_recommender.models.hybrid_gbm_recommender - INFO - 🚀 Initialized GBM Recommender with lightgbm\n",
            "2025-09-20 16:28:16,017 - recipe_recommender.models.hybrid_gbm_recommender - INFO - 📊 Loading training data...\n",
            "2025-09-20 16:28:16,148 - recipe_recommender.models.hybrid_gbm_recommender - INFO - ✅ Successfully loaded training data:\n",
            "2025-09-20 16:28:16,149 - recipe_recommender.models.hybrid_gbm_recommender - INFO -    Train: 12,438 samples\n",
            "2025-09-20 16:28:16,149 - recipe_recommender.models.hybrid_gbm_recommender - INFO -    Validation: 4,146 samples\n",
            "2025-09-20 16:28:16,149 - recipe_recommender.models.hybrid_gbm_recommender - INFO -    Test: 4,146 samples\n",
            "2025-09-20 16:28:16,150 - recipe_recommender.models.hybrid_gbm_recommender - INFO - 📋 Loaded 36 feature columns\n",
            "2025-09-20 16:28:16,151 - recipe_recommender.models.hybrid_gbm_recommender - INFO - 📋 Loaded training metadata\n",
            "2025-09-20 16:28:16,161 - recipe_recommender.models.hybrid_gbm_recommender - INFO - ✅ Loaded 1967 recipes for scoring\n",
            "2025-09-20 16:28:16,162 - recipe_recommender.models.hybrid_gbm_recommender - INFO - 🚀 Training LIGHTGBM model...\n",
            "2025-09-20 16:28:16,162 - recipe_recommender.models.hybrid_gbm_recommender - INFO - 🔧 Preparing features for training...\n",
            "2025-09-20 16:28:16,162 - recipe_recommender.models.hybrid_gbm_recommender - INFO - 📊 Using 22 numeric features\n",
            "2025-09-20 16:28:16,164 - recipe_recommender.models.hybrid_gbm_recommender - INFO - 📊 Training data shape: (12438, 22)\n",
            "2025-09-20 16:28:16,164 - recipe_recommender.models.hybrid_gbm_recommender - INFO -    Positive samples: 2,488 (20.0%)\n"
          ]
        },
        {
          "name": "stdout",
          "output_type": "stream",
          "text": [
            "Training until validation scores don't improve for 50 rounds\n"
          ]
        },
        {
          "name": "stderr",
          "output_type": "stream",
          "text": [
            "2025-09-20 16:28:17,183 - recipe_recommender.models.hybrid_gbm_recommender - INFO - ✅ Model training completed!\n",
            "2025-09-20 16:28:17,184 - recipe_recommender.models.hybrid_gbm_recommender - INFO - 📈 Evaluating model performance...\n"
          ]
        },
        {
          "name": "stdout",
          "output_type": "stream",
          "text": [
            "[100]\ttrain's binary_logloss: 0.00201516\tvalidation's binary_logloss: 0.029075\n",
            "Early stopping, best iteration is:\n",
            "[54]\ttrain's binary_logloss: 0.00848836\tvalidation's binary_logloss: 0.022781\n"
          ]
        },
        {
          "name": "stderr",
          "output_type": "stream",
          "text": [
            "2025-09-20 16:28:17,522 - recipe_recommender.models.hybrid_gbm_recommender - INFO - 📊 MODEL PERFORMANCE:\n",
            "2025-09-20 16:28:17,522 - recipe_recommender.models.hybrid_gbm_recommender - INFO -    AUC: 0.9992 (0.5=random, 1.0=perfect)\n",
            "2025-09-20 16:28:17,522 - recipe_recommender.models.hybrid_gbm_recommender - INFO -    Precision: 0.9913\n",
            "2025-09-20 16:28:17,523 - recipe_recommender.models.hybrid_gbm_recommender - INFO -    Recall: 0.9626\n",
            "2025-09-20 16:28:17,523 - recipe_recommender.models.hybrid_gbm_recommender - INFO -    F1-Score: 0.9767\n",
            "2025-09-20 16:28:17,523 - recipe_recommender.models.hybrid_gbm_recommender - INFO -    NDCG@5: 0.6193\n",
            "2025-09-20 16:28:17,523 - recipe_recommender.models.hybrid_gbm_recommender - INFO -    NDCG@10: 0.6221\n",
            "2025-09-20 16:28:17,526 - recipe_recommender.models.hybrid_gbm_recommender - INFO - 💾 Saving trained model...\n",
            "2025-09-20 16:28:17,528 - recipe_recommender.models.hybrid_gbm_recommender - INFO - ✅ Model saved to: hybrid_lightgbm_model.txt\n",
            "2025-09-20 16:28:17,529 - recipe_recommender.models.hybrid_gbm_recommender - INFO - ✅ Metadata saved to: hybrid_lightgbm_metadata.json\n"
          ]
        },
        {
          "name": "stdout",
          "output_type": "stream",
          "text": [
            "Top 10 features:\n",
            "                          feature    importance\n",
            "17         user_complexity_match  34483.877358\n",
            "18  user_recipe_engagement_match  12766.716292\n",
            "20                is_mobile_user    927.095745\n",
            "13              ingredient_count    889.140933\n",
            "11                      servings    496.852943\n",
            "10                    total_time    441.104870\n",
            "1                     avg_rating    349.497566\n",
            "3                     rating_std    294.887384\n",
            "19       user_time_compatibility    240.116808\n",
            "15              complexity_score    148.442660\n",
            "Artifacts saved in: /Users/marcelqayoomtaylor/Documents/GitHub/PantryPalML/recipe_recommender/output/hybrid_models\n"
          ]
        }
      ],
      "source": [
        "# Train and evaluate\n",
        "recommender = HybridGBMRecommender(config)  # wraps LightGBM with config-driven hyperparams and tracked features\n",
        "\n",
        "# Reads train/val/test CSVs prepared by the data builder\n",
        "recommender.load_training_data()\n",
        "# Ensures recipe-level features are available (used for context/eval)\n",
        "recommender.load_recipe_features()\n",
        "\n",
        "# Fits LightGBM (binary logloss) with early stopping on validation set\n",
        "recommender.train_model()\n",
        "\n",
        "# Reports AUC/Precision/Recall/F1 and per-user NDCG@k ranking metrics\n",
        "recommender.evaluate_model()\n",
        "# LightGBM feature importance by gain (sum loss reduction per feature)\n",
        "importance = recommender.get_feature_importance()\n",
        "print(\"Top 10 features:\\n\", importance.head(10))\n",
        "\n",
        "# Writes booster + metadata (feature columns, config, training stats) to model_dir\n",
        "recommender.save_model()\n",
        "\n",
        "print(\"Artifacts saved in:\", config.model_dir)\n"
      ]
    },
    {
      "cell_type": "markdown",
      "metadata": {},
      "source": [
        "### Notes on Learning Task and Objective\n",
        "- Input (train): user–recipe feature matrix with label indicating positive interaction\n",
        "- Output (deploy): score per recipe for a given user\n",
        "- Learning objective: LightGBM binary logloss; practical objective: top-N ranking quality (monitored with AUC, AP, NDCG)\n",
        "- Alignment: we tune thresholding/ranking and measure ranking metrics to reflect deployment goals\n"
      ]
    },
    {
      "cell_type": "markdown",
      "metadata": {},
      "source": [
        "### Smoke Test: Saved Artifacts\n",
        "Verify that the trained model and metadata were written to `config.model_dir`.\n"
      ]
    },
    {
      "cell_type": "code",
      "execution_count": 5,
      "metadata": {},
      "outputs": [
        {
          "name": "stdout",
          "output_type": "stream",
          "text": [
            "Model exists: True /Users/marcelqayoomtaylor/Documents/GitHub/PantryPalML/recipe_recommender/output/hybrid_models/hybrid_lightgbm_model.txt\n",
            "Metadata exists: True /Users/marcelqayoomtaylor/Documents/GitHub/PantryPalML/recipe_recommender/output/hybrid_models/hybrid_lightgbm_metadata.json\n"
          ]
        }
      ],
      "source": [
        "from pathlib import Path\n",
        "model_file = config.model_dir / \"hybrid_lightgbm_model.txt\"\n",
        "meta_file = config.model_dir / \"hybrid_lightgbm_metadata.json\"\n",
        "\n",
        "print(\"Model exists:\", model_file.exists(), model_file)\n",
        "print(\"Metadata exists:\", meta_file.exists(), meta_file)\n"
      ]
    }
  ],
  "metadata": {
    "kernelspec": {
      "display_name": ".venv",
      "language": "python",
      "name": "python3"
    },
    "language_info": {
      "codemirror_mode": {
        "name": "ipython",
        "version": 3
      },
      "file_extension": ".py",
      "mimetype": "text/x-python",
      "name": "python",
      "nbconvert_exporter": "python",
      "pygments_lexer": "ipython3",
      "version": "3.12.9"
    }
  },
  "nbformat": 4,
  "nbformat_minor": 2
}
