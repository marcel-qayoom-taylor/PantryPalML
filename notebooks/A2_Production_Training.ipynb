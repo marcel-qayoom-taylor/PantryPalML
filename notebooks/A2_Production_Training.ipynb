{
  "cells": [
    {
      "cell_type": "markdown",
      "metadata": {},
      "source": [
        "# Assignment 2: Production Model Training for Recipe Recommendation System\n",
        "\n",
        "## Project Overview\n",
        "This notebook demonstrates the development and training of a machine learning model for a recipe recommendation system for my mobile app PantryPal. \n",
        "PantryPal is a real-world cooking app where users can input the ingredients that they have and receive recipe suggestions. In addition to ingredient-count based recommendations,\n",
        "I wanted to incorporate a general recommendation system that tries to rank, out of all 2000 of our recipes, which they would most engage with.\n",
        "\n",
        "As the owner of this recipe app, I have collected real user interaction data (views, favorites, cooking attempts) and built a personalized recommendation system to improve user engagement and help users discover recipes they'll love.\n",
        "\n",
        "## Business Problem\n",
        "PantryPal serves hundreds of users who interact with recipes in various ways. The challenge is to predict which recipes a user is most likely to engage with based on their historical behavior and recipe characteristics. This is a classic collaborative filtering problem with content-based features.\n",
        "\n",
        "## Outline\n",
        "This notebook demonstrates the complete ML pipeline:\n",
        "- Environment setup (Colab-compatible)\n",
        "- Data preparation using `TrainingDataBuilder`\n",
        "- Model training, evaluation, and saving via `RecipeRanker` \n",
        "- Model artifacts for production inference\n",
        "- Discussion of learning objectives, loss functions, and evaluation metrics\n",
        "\n"
      ]
    },
    {
      "cell_type": "code",
      "execution_count": 1,
      "metadata": {},
      "outputs": [
        {
          "name": "stdout",
          "output_type": "stream",
          "text": [
            "Environment ready. Project root: /Users/marcelqayoomtaylor/Documents/GitHub/PantryPalML/notebooks\n"
          ]
        }
      ],
      "source": [
        "# Environment Setup\n",
        "# This cell configures the environment for both local development and Google Colab\n",
        "import sys, subprocess, os, pathlib\n",
        "\n",
        "IN_COLAB = \"google.colab\" in sys.modules\n",
        "repo_root = pathlib.Path.cwd()\n",
        "\n",
        "# Install required packages for Colab environments\n",
        "if IN_COLAB:\n",
        "    try:\n",
        "        subprocess.run([sys.executable, \"-m\", \"pip\", \"install\", \"-q\",\n",
        "                        \"lightgbm\", \"pandas\", \"numpy\", \"scikit-learn\", \"matplotlib\", \"seaborn\"],\n",
        "                       check=False)\n",
        "    except Exception as e:\n",
        "        print(f\"pip install warning: {e}\")\n",
        "\n",
        "    # Clone the PantryPal ML repository if not already present\n",
        "    if not (repo_root / \"recipe_recommender\").exists():\n",
        "        subprocess.run([\"git\", \"clone\", \"-q\", \"https://github.com/marcel-qayoom-taylor/PantryPalML.git\"], check=True)\n",
        "        os.chdir(\"PantryPalML\")\n",
        "        repo_root = pathlib.Path.cwd()\n",
        "\n",
        "print(f\"Environment ready. Project root: {repo_root}\")\n"
      ]
    },
    {
      "cell_type": "code",
      "execution_count": 2,
      "metadata": {},
      "outputs": [
        {
          "name": "stdout",
          "output_type": "stream",
          "text": [
            "ML Pipeline Configuration:\n",
            " - output_dir: /Users/marcelqayoomtaylor/Documents/GitHub/PantryPalML/recipe_recommender/output\n",
            " - input_dir: /Users/marcelqayoomtaylor/Documents/GitHub/PantryPalML/recipe_recommender/input\n",
            " - model_dir: /Users/marcelqayoomtaylor/Documents/GitHub/PantryPalML/recipe_recommender/output/hybrid_models\n"
          ]
        }
      ],
      "source": [
        "# Configuration Management\n",
        "# Import the centralized configuration system for the ML pipeline\n",
        "from recipe_recommender.config import get_ml_config\n",
        "\n",
        "# The MLConfig object contains all hyperparameters, file paths, and model settings\n",
        "# This approach ensures reproducibility and makes hyperparameter tuning systematic\n",
        "config = get_ml_config()\n",
        "\n",
        "print(\"ML Pipeline Configuration:\")\n",
        "print(\" - output_dir:\", config.output_dir)\n",
        "print(\" - input_dir:\", config.input_dir)\n",
        "print(\" - model_dir:\", config.model_dir)\n"
      ]
    },
    {
      "cell_type": "markdown",
      "metadata": {},
      "source": [
        "## Data Preparation Phase\n",
        "\n",
        "### Objective\n",
        "Transform raw user interaction events and recipe metadata into a structured ML dataset suitable for training a ranking model. This involves feature engineering, negative sampling, and creating train/validation/test splits.\n",
        "\n",
        "### Data Sources\n",
        "- **User interaction events**: Real app analytics data showing user engagement with recipes \n",
        "- **Recipe database**: Complete recipe metadata including ingredients, cooking times, ratings, etc.\n",
        "- **Recipe-ingredient relationships**: Detailed ingredient lists for content-based filtering\n",
        "\n",
        "The `TrainingDataBuilder` class orchestrates this entire data preparation pipeline.\n"
      ]
    },
    {
      "cell_type": "code",
      "execution_count": 3,
      "metadata": {},
      "outputs": [
        {
          "name": "stderr",
          "output_type": "stream",
          "text": [
            "2025-09-29 21:31:38,408 - recipe_recommender.models.training_data_builder - INFO - Initialized Training Data Builder\n",
            "2025-09-29 21:31:38,408 - recipe_recommender.models.training_data_builder - INFO - Loading real recipe database\n",
            "2025-09-29 21:31:38,418 - recipe_recommender.models.training_data_builder - INFO - Loaded 1967 recipes with enhanced features\n",
            "2025-09-29 21:31:38,421 - recipe_recommender.models.training_data_builder - INFO - Loaded 21439 recipe-ingredient relationships\n",
            "2025-09-29 21:31:38,424 - recipe_recommender.models.training_data_builder - INFO - Loaded 2092 ingredients\n",
            "2025-09-29 21:31:38,424 - recipe_recommender.models.training_data_builder - INFO - Extracting user interactions from events\n",
            "2025-09-29 21:31:38,424 - recipe_recommender.models.training_data_builder - INFO -    Processing v1_events_20250827.json...\n",
            "2025-09-29 21:31:38,701 - recipe_recommender.models.training_data_builder - INFO -    Processing v2_events_20250920.json...\n",
            "2025-09-29 21:31:38,835 - recipe_recommender.models.training_data_builder - INFO - Extracted 9490 interactions\n",
            "2025-09-29 21:31:38,837 - recipe_recommender.models.training_data_builder - INFO -    Users: 847\n",
            "2025-09-29 21:31:38,838 - recipe_recommender.models.training_data_builder - INFO -    Recipes: 4152\n",
            "2025-09-29 21:31:38,839 - recipe_recommender.models.training_data_builder - INFO -    Event types: ['Recipe Viewed', 'Recipe Cooked', 'Recipe Link Clicked', 'Recipe Favourited', 'Recipe Added To Collections', 'Recipe Removed From Collections', 'Recipe Cook Started']\n",
            "2025-09-29 21:31:38,839 - recipe_recommender.models.training_data_builder - INFO - Creating user profiles\n",
            "2025-09-29 21:31:38,892 - recipe_recommender.models.training_data_builder - INFO - Created profiles for 847 users\n",
            "2025-09-29 21:31:38,892 - recipe_recommender.models.training_data_builder - INFO - Creating user-recipe training pairs with engagement weighting\n",
            "2025-09-29 21:31:38,918 - recipe_recommender.models.training_data_builder - INFO - Created 4197 engagement-weighted pairs\n",
            "2025-09-29 21:31:38,919 - recipe_recommender.models.training_data_builder - INFO -    Engagement distribution: {'Recipe Viewed': 2935, 'Recipe Link Clicked': 580, 'Recipe Favourited': 413, 'Recipe Cooked': 200, 'Recipe Added To Collections': 61, 'Recipe Cook Started': 8}\n",
            "2025-09-29 21:31:38,919 - recipe_recommender.models.training_data_builder - INFO -    Label distribution: {1.0: 2935, 2.0: 580, 4.0: 413, 5.0: 200, 3.5: 61, 3.0: 8}\n",
            "2025-09-29 21:31:38,920 - recipe_recommender.models.training_data_builder - INFO - Generating negative samples\n",
            "2025-09-29 21:31:39,443 - recipe_recommender.models.training_data_builder - INFO - Created 16788 negative pairs\n",
            "2025-09-29 21:31:39,445 - recipe_recommender.models.training_data_builder - INFO - Total training pairs: 20985\n",
            "2025-09-29 21:31:39,446 - recipe_recommender.models.training_data_builder - INFO -    Positive: 4197 (20.0%)\n",
            "2025-09-29 21:31:39,446 - recipe_recommender.models.training_data_builder - INFO -    Negative: 16788 (80.0%)\n",
            "2025-09-29 21:31:39,447 - recipe_recommender.models.training_data_builder - INFO - Preparing training data for recommendation model\n",
            "2025-09-29 21:31:39,447 - recipe_recommender.models.training_data_builder - INFO - Loading real recipe database\n",
            "2025-09-29 21:31:39,458 - recipe_recommender.models.training_data_builder - INFO - Loaded 1967 recipes with enhanced features\n",
            "2025-09-29 21:31:39,460 - recipe_recommender.models.training_data_builder - INFO - Loaded 21439 recipe-ingredient relationships\n",
            "2025-09-29 21:31:39,463 - recipe_recommender.models.training_data_builder - INFO - Loaded 2092 ingredients\n",
            "2025-09-29 21:31:39,463 - recipe_recommender.models.training_data_builder - INFO - Extracting user interactions from events\n",
            "2025-09-29 21:31:39,463 - recipe_recommender.models.training_data_builder - INFO -    Processing v1_events_20250827.json...\n",
            "2025-09-29 21:31:39,709 - recipe_recommender.models.training_data_builder - INFO -    Processing v2_events_20250920.json...\n",
            "2025-09-29 21:31:39,845 - recipe_recommender.models.training_data_builder - INFO - Extracted 9490 interactions\n",
            "2025-09-29 21:31:39,846 - recipe_recommender.models.training_data_builder - INFO -    Users: 847\n",
            "2025-09-29 21:31:39,847 - recipe_recommender.models.training_data_builder - INFO -    Recipes: 4152\n",
            "2025-09-29 21:31:39,848 - recipe_recommender.models.training_data_builder - INFO -    Event types: ['Recipe Viewed', 'Recipe Cooked', 'Recipe Link Clicked', 'Recipe Favourited', 'Recipe Added To Collections', 'Recipe Removed From Collections', 'Recipe Cook Started']\n",
            "2025-09-29 21:31:39,849 - recipe_recommender.models.training_data_builder - INFO - Loading recipe ID mapping to standardize v1/v2 recipe IDs\n",
            "2025-09-29 21:31:39,850 - recipe_recommender.models.training_data_builder - INFO - Loaded mapping for 88 recipe ID pairs\n",
            "2025-09-29 21:31:39,856 - recipe_recommender.models.training_data_builder - INFO - Recipe ID mapping results:\n",
            "2025-09-29 21:31:39,856 - recipe_recommender.models.training_data_builder - INFO -    v1 interactions processed: 8817\n",
            "2025-09-29 21:31:39,857 - recipe_recommender.models.training_data_builder - INFO -    Successfully mapped to v2 IDs: 222\n",
            "2025-09-29 21:31:39,857 - recipe_recommender.models.training_data_builder - INFO -    Unmapped v1 interactions: 8595\n",
            "2025-09-29 21:31:39,858 - recipe_recommender.models.training_data_builder - INFO -    Total unique recipe IDs after mapping: 4152\n",
            "2025-09-29 21:31:39,858 - recipe_recommender.models.training_data_builder - INFO -    v1 interactions: 8595\n",
            "2025-09-29 21:31:39,859 - recipe_recommender.models.training_data_builder - INFO -    v2 interactions: 673\n",
            "2025-09-29 21:31:39,859 - recipe_recommender.models.training_data_builder - INFO -    v1_mapped_to_v2 interactions: 222\n",
            "2025-09-29 21:31:39,859 - recipe_recommender.models.training_data_builder - INFO - Creating user profiles\n",
            "2025-09-29 21:31:39,912 - recipe_recommender.models.training_data_builder - INFO - Created profiles for 847 users\n",
            "2025-09-29 21:31:39,912 - recipe_recommender.models.training_data_builder - INFO - Creating user-recipe training pairs with engagement weighting\n",
            "2025-09-29 21:31:39,939 - recipe_recommender.models.training_data_builder - INFO - Created 4197 engagement-weighted pairs\n",
            "2025-09-29 21:31:39,940 - recipe_recommender.models.training_data_builder - INFO -    Engagement distribution: {'Recipe Viewed': 2935, 'Recipe Link Clicked': 580, 'Recipe Favourited': 413, 'Recipe Cooked': 200, 'Recipe Added To Collections': 61, 'Recipe Cook Started': 8}\n",
            "2025-09-29 21:31:39,940 - recipe_recommender.models.training_data_builder - INFO -    Label distribution: {1.0: 2935, 2.0: 580, 4.0: 413, 5.0: 200, 3.5: 61, 3.0: 8}\n",
            "2025-09-29 21:31:39,940 - recipe_recommender.models.training_data_builder - INFO - Generating negative samples\n",
            "2025-09-29 21:31:40,462 - recipe_recommender.models.training_data_builder - INFO - Created 16788 negative pairs\n",
            "2025-09-29 21:31:40,464 - recipe_recommender.models.training_data_builder - INFO - Total training pairs: 20985\n",
            "2025-09-29 21:31:40,464 - recipe_recommender.models.training_data_builder - INFO -    Positive: 4197 (20.0%)\n",
            "2025-09-29 21:31:40,464 - recipe_recommender.models.training_data_builder - INFO -    Negative: 16788 (80.0%)\n",
            "2025-09-29 21:31:40,465 - recipe_recommender.models.training_data_builder - INFO - Filtering users with insufficient interactions/positives for ranking\n",
            "2025-09-29 21:31:40,470 - recipe_recommender.models.training_data_builder - INFO -    Kept 563 users eligible for ranking; pairs: 20985 -> 18400\n",
            "2025-09-29 21:31:40,470 - recipe_recommender.models.training_data_builder - INFO - Creating comprehensive training features\n",
            "2025-09-29 21:31:40,515 - recipe_recommender.models.training_data_builder - INFO - Created training dataset with 18400 samples and 40 features\n",
            "2025-09-29 21:31:40,516 - recipe_recommender.models.training_data_builder - INFO - Creating train/validation/test splits\n",
            "2025-09-29 21:31:40,529 - recipe_recommender.models.training_data_builder - INFO - Data splits created:\n",
            "2025-09-29 21:31:40,529 - recipe_recommender.models.training_data_builder - INFO -    Train: 11040 samples (60.0%)\n",
            "2025-09-29 21:31:40,530 - recipe_recommender.models.training_data_builder - INFO -    Validation: 3680 samples (20.0%)\n",
            "2025-09-29 21:31:40,530 - recipe_recommender.models.training_data_builder - INFO -    Test: 3680 samples (20.0%)\n",
            "2025-09-29 21:31:40,958 - recipe_recommender.models.training_data_builder - INFO - Saved training data:\n",
            "2025-09-29 21:31:40,958 - recipe_recommender.models.training_data_builder - INFO -    - hybrid_train_data.csv (11040 samples)\n",
            "2025-09-29 21:31:40,958 - recipe_recommender.models.training_data_builder - INFO -    - hybrid_val_data.csv (3680 samples)\n",
            "2025-09-29 21:31:40,959 - recipe_recommender.models.training_data_builder - INFO -    - hybrid_test_data.csv (3680 samples)\n",
            "2025-09-29 21:31:40,959 - recipe_recommender.models.training_data_builder - INFO -    - hybrid_feature_columns.txt (19 features)\n",
            "2025-09-29 21:31:40,959 - recipe_recommender.models.training_data_builder - INFO -    - hybrid_training_metadata.json\n"
          ]
        },
        {
          "name": "stdout",
          "output_type": "stream",
          "text": [
            "Dataset shapes - Train: (11040, 40) Validation: (3680, 40) Test: (3680, 40)\n"
          ]
        }
      ],
      "source": [
        "# Import the training data builder\n",
        "from recipe_recommender.models.training_data_builder import TrainingDataBuilder\n",
        "\n",
        "# Initialize the data builder with our configuration\n",
        "builder = TrainingDataBuilder(config)\n",
        "\n",
        "# Step 1: Load recipe metadata from the production database\n",
        "# This includes recipe details, ingredients, nutritional info, etc.\n",
        "ok_recipes = builder.load_real_recipe_data()\n",
        "\n",
        "# Step 2: Extract user interaction history from event logs\n",
        "# This processes real app analytics to understand user preferences\n",
        "ok_events = builder.extract_user_interactions_from_events()\n",
        "\n",
        "# Validate that all required data sources are available\n",
        "if not (ok_recipes and ok_events):\n",
        "    raise RuntimeError(\"Missing required data files. Ensure recipe and event outputs exist in recipe_recommender/output.\")\n",
        "\n",
        "# Step 3: Create user profile features \n",
        "# Aggregates per-user statistics: average ratings, activity levels, platform preferences\n",
        "user_profiles = builder.create_user_profiles()\n",
        "\n",
        "# Step 4: Generate training pairs with labels\n",
        "# Creates positive (user engaged with recipe) and negative (user likely not interested) pairs\n",
        "training_pairs = builder.create_user_recipe_pairs()\n",
        "\n",
        "# Step 5: Build final feature matrix and data splits\n",
        "# Combines user profiles, recipe features, and interaction patterns into ML-ready format\n",
        "train_df, val_df, test_df = builder.prepare_training_data()\n",
        "\n",
        "print(\"Dataset shapes - Train:\", train_df.shape, \"Validation:\", val_df.shape, \"Test:\", test_df.shape)\n"
      ]
    },
    {
      "cell_type": "markdown",
      "metadata": {},
      "source": [
        "## Model Training and Evaluation\n",
        "\n",
        "### Objective\n",
        "Train a Learning-to-Rank model using LightGBM's Lambdarank objective to optimize for recommendation quality. The model learns to score user-recipe pairs such that recipes the user is more likely to engage with receive higher scores.\n",
        "\n",
        "### Model Architecture\n",
        "- **Algorithm**: LightGBM Gradient Boosting with Lambdarank objective. \n",
        "- **Loss Function**: LambdaRank doesn't use a traditional loss function but instead directly computes gradients aka \"lambdas\" by considering pairwise document comparisons and weighting them by how much swapping their positions would improve the ranking metric (NDCG in our case). \n",
        "- **Task**: Learning-to-Rank for personalized recipe recommendations  \n",
        "- **Optimization Target**: Normalized Discounted Cumulative Gain (NDCG@k)\n",
        "- **Features**: 34 features (22 computed, 12 natural) combining user behavior, recipe content, and compatibility signals\n",
        "\n",
        "The `RecipeRanker` class handles the complete training, evaluation, and persistence workflow.\n"
      ]
    },
    {
      "cell_type": "code",
      "execution_count": 4,
      "metadata": {},
      "outputs": [
        {
          "name": "stderr",
          "output_type": "stream",
          "text": [
            "2025-09-29 21:31:41,036 - recipe_recommender.models.recipe_ranker - INFO - Initialized Recipe Ranker with lightgbm\n",
            "2025-09-29 21:31:41,036 - recipe_recommender.models.recipe_ranker - INFO - Loading training data\n",
            "2025-09-29 21:31:41,140 - recipe_recommender.models.recipe_ranker - INFO - Successfully loaded training data:\n",
            "2025-09-29 21:31:41,141 - recipe_recommender.models.recipe_ranker - INFO -    Train: 11,040 samples\n",
            "2025-09-29 21:31:41,141 - recipe_recommender.models.recipe_ranker - INFO -    Validation: 3,680 samples\n",
            "2025-09-29 21:31:41,141 - recipe_recommender.models.recipe_ranker - INFO -    Test: 3,680 samples\n",
            "2025-09-29 21:31:41,142 - recipe_recommender.models.recipe_ranker - INFO - Loaded 19 feature columns\n",
            "2025-09-29 21:31:41,142 - recipe_recommender.models.recipe_ranker - INFO - Loaded training metadata\n",
            "2025-09-29 21:31:41,152 - recipe_recommender.models.recipe_ranker - INFO - Loaded raw recipe features from enhanced_recipe_features_from_db.csv\n",
            "2025-09-29 21:31:41,153 - recipe_recommender.models.recipe_ranker - INFO - Loaded 1967 recipes for scoring\n",
            "2025-09-29 21:31:41,153 - recipe_recommender.models.recipe_ranker - INFO - Training LIGHTGBM model\n",
            "2025-09-29 21:31:41,154 - recipe_recommender.models.recipe_ranker - INFO - Preparing features for training\n",
            "2025-09-29 21:31:41,154 - recipe_recommender.models.recipe_ranker - INFO - Using 19 numeric features\n",
            "2025-09-29 21:31:41,155 - recipe_recommender.models.recipe_ranker - INFO - Training data shape: (11040, 19)\n",
            "2025-09-29 21:31:41,156 - recipe_recommender.models.recipe_ranker - INFO -    Positive samples: 3,189.0 (28.9%)\n",
            "2025-09-29 21:31:41,314 - recipe_recommender.models.recipe_ranker - INFO - Model training completed\n",
            "2025-09-29 21:31:41,315 - recipe_recommender.models.recipe_ranker - INFO - Evaluating model performance\n"
          ]
        },
        {
          "name": "stdout",
          "output_type": "stream",
          "text": [
            "Training until validation scores don't improve for 50 rounds\n",
            "Early stopping, best iteration is:\n",
            "[9]\ttrain's ndcg@5: 0.947473\ttrain's ndcg@10: 0.955563\ttrain's ndcg@20: 0.959096\tvalidation's ndcg@5: 0.983363\tvalidation's ndcg@10: 0.986123\tvalidation's ndcg@20: 0.986391\n"
          ]
        },
        {
          "name": "stderr",
          "output_type": "stream",
          "text": [
            "2025-09-29 21:31:41,576 - recipe_recommender.models.recipe_ranker - INFO - Model performance:\n",
            "2025-09-29 21:31:41,577 - recipe_recommender.models.recipe_ranker - INFO -    NDCG@5: 0.6231\n",
            "2025-09-29 21:31:41,577 - recipe_recommender.models.recipe_ranker - INFO -    NDCG@10: 0.6290\n",
            "2025-09-29 21:31:41,577 - recipe_recommender.models.recipe_ranker - INFO -    Recall@5: 0.9469\n",
            "2025-09-29 21:31:41,577 - recipe_recommender.models.recipe_ranker - INFO -    Recall@10: 0.9865\n",
            "2025-09-29 21:31:41,578 - recipe_recommender.models.recipe_ranker - INFO -    Spearman Correlation: 0.7420\n",
            "2025-09-29 21:31:41,580 - recipe_recommender.models.recipe_ranker - INFO - Saving trained model\n",
            "2025-09-29 21:31:41,582 - recipe_recommender.models.recipe_ranker - INFO - Model saved to: hybrid_lightgbm_model.txt\n",
            "2025-09-29 21:31:41,582 - recipe_recommender.models.recipe_ranker - INFO - Metadata saved to: hybrid_lightgbm_metadata.json\n"
          ]
        },
        {
          "name": "stdout",
          "output_type": "stream",
          "text": [
            "Top 10 Most Important Features:\n",
            "                         feature    importance\n",
            "14         user_complexity_match  12655.871979\n",
            "1                     avg_rating     96.296320\n",
            "3                     rating_std     39.818507\n",
            "0             total_interactions      8.937489\n",
            "2                   total_rating      6.138650\n",
            "4                 unique_recipes      1.151535\n",
            "12              complexity_score      0.000000\n",
            "17                is_mobile_user      0.000000\n",
            "16       user_time_compatibility      0.000000\n",
            "15  user_recipe_engagement_match      0.000000\n",
            "Training complete! Model artifacts saved to: /Users/marcelqayoomtaylor/Documents/GitHub/PantryPalML/recipe_recommender/output/hybrid_models\n"
          ]
        }
      ],
      "source": [
        "\n",
        "# Import the recipe ranking model\n",
        "from recipe_recommender.models.recipe_ranker import RecipeRanker\n",
        "\n",
        "# Initialize the ranker with our configuration\n",
        "ranker = RecipeRanker(config)\n",
        "\n",
        "# Step 1: Load the prepared training datasets\n",
        "# This loads the train/validation/test splits created by the TrainingDataBuilder\n",
        "ranker.load_training_data()\n",
        "\n",
        "# Step 2: Load recipe feature metadata\n",
        "# Ensures recipe-level features are available for scoring and evaluation\n",
        "ranker.load_recipe_features()\n",
        "\n",
        "# Step 3: Train the LightGBM model\n",
        "# Uses Lambdarank objective to optimize directly for ranking quality (NDCG)\n",
        "# Early stopping prevents overfitting based on validation NDCG performance\n",
        "ranker.train_model()\n",
        "\n",
        "# Step 4: Evaluate model performance\n",
        "# Reports both classification metrics (AUC, Precision, Recall) and ranking metrics (NDCG@k, Recall@k)\n",
        "ranker.evaluate_model()\n",
        "\n",
        "# Step 5: Analyze feature importance\n",
        "# LightGBM provides feature importance scores based on information gain\n",
        "importance = ranker.get_feature_importance()\n",
        "print(\"Top 10 Most Important Features:\")\n",
        "print(importance.head(10))\n",
        "\n",
        "# Step 6: Save model artifacts for production inference\n",
        "# Saves the trained booster, feature metadata, and configuration\n",
        "ranker.save_model()\n",
        "\n",
        "print(\"Training complete! Model artifacts saved to:\", config.model_dir)\n"
      ]
    },
    {
      "cell_type": "markdown",
      "metadata": {},
      "source": [
        "## Learning Task Analysis\n",
        "\n",
        "### Problem Formulation\n",
        "This is a **Learning-to-Rank** problem rather than traditional binary classification:\n",
        "\n",
        "- **Input**: User-recipe feature vectors with binary engagement labels (1 = user engaged, 0 = no engagement)\n",
        "- **Output**: Relevance scores for ranking recipes per user\n",
        "- **Objective**: Learn a scoring function that ranks recipes users will engage with higher than those they won't\n",
        "\n",
        "### Model Architecture Decisions\n",
        "- **Algorithm Choice**: LightGBM with Lambdarank objective\n",
        "- **Why Ranking**: We care about the order of recommendations, not calibrated probabilities\n",
        "- **Optimization Target**: NDCG@k directly aligns with business goals (top-N recommendation quality)\n",
        "- **Evaluation**: Primary metrics are NDCG@k and Recall@k;\n",
        "\n",
        "### Business Alignment\n",
        "The Lambdarank objective optimizes for the exact metric we care about in production: presenting users with the most relevant recipes at the top of their recommendation list.\n"
      ]
    },
    {
      "cell_type": "markdown",
      "metadata": {},
      "source": [
        "## Lambdarank Algorithm Analysis\n",
        "\n",
        "### Theoretical Foundation\n",
        "\n",
        "**Lambdarank** is a listwise learning-to-rank algorithm that directly optimizes for ranking evaluation metrics like NDCG\n",
        "\n",
        "### Why Lambdarank for Recipe Recommendations?\n",
        "\n",
        "1. **Metric Alignment**: Traditional classification losses (cross-entropy) don't directly optimize for ranking quality. Lambdarank approximates NDCG gradients, ensuring our training objective matches our evaluation criteria.\n",
        "\n",
        "2. **Handles Recommendation Challenges**:\n",
        "   - **Class imbalance**: Most user-recipe pairs are negative (sparse interactions)\n",
        "   - **Variable list lengths**: Different users have different numbers of candidate recipes\n",
        "   - **Position bias**: Top recommendations matter more than bottom ones\n",
        "\n",
        "3. **Pairwise Learning**: For each user group, the algorithm considers pairs of recipes and learns to score the engaging recipe higher than the non-engaging one.\n",
        "\n",
        "### Technical Implementation\n",
        "\n",
        "- **Objective Function**: `objective = \"lambdarank\"` in LightGBM\n",
        "- **Metric**: `metric = \"ndcg\"` with evaluation at ranks 5, 10, and 20\n",
        "- **Loss Function**: Pairwise logistic loss weighted by lambda coefficients:\n",
        "  ```\n",
        "  L = Σ λ_ij * log(1 + exp(-(s_i - s_j)))\n",
        "  ```\n",
        "  where λ_ij represents the change in NDCG if recipes i and j were swapped\n",
        "\n",
        "### Production Implications\n",
        "\n",
        "- **Scoring**: Model outputs continuous scores; higher scores indicate better recommendations\n",
        "- **Ranking**: No threshold needed—simply rank recipes by score for top-N recommendations\n",
        "- **Optimization**: Early stopping based on validation NDCG prevents overfitting to ranking metrics\n",
        "\n"
      ]
    },
    {
      "cell_type": "markdown",
      "metadata": {},
      "source": [
        "## Model Artifact Verification\n",
        "\n",
        "### Objective\n",
        "Verify that all necessary model artifacts have been correctly saved for production deployment. This ensures the training pipeline completed successfully and the model is ready for inference.\n"
      ]
    },
    {
      "cell_type": "code",
      "execution_count": 5,
      "metadata": {},
      "outputs": [
        {
          "name": "stdout",
          "output_type": "stream",
          "text": [
            "Model exists: True /Users/marcelqayoomtaylor/Documents/GitHub/PantryPalML/recipe_recommender/output/hybrid_models/hybrid_lightgbm_model.txt\n",
            "Metadata exists: True /Users/marcelqayoomtaylor/Documents/GitHub/PantryPalML/recipe_recommender/output/hybrid_models/hybrid_lightgbm_metadata.json\n"
          ]
        }
      ],
      "source": [
        "model_file = config.model_dir / \"hybrid_lightgbm_model.txt\"\n",
        "meta_file = config.model_dir / \"hybrid_lightgbm_metadata.json\"\n",
        "\n",
        "print(\"Model exists:\", model_file.exists(), model_file)\n",
        "print(\"Metadata exists:\", meta_file.exists(), meta_file)\n"
      ]
    }
  ],
  "metadata": {
    "kernelspec": {
      "display_name": ".venv",
      "language": "python",
      "name": "python3"
    },
    "language_info": {
      "codemirror_mode": {
        "name": "ipython",
        "version": 3
      },
      "file_extension": ".py",
      "mimetype": "text/x-python",
      "name": "python",
      "nbconvert_exporter": "python",
      "pygments_lexer": "ipython3",
      "version": "3.12.9"
    }
  },
  "nbformat": 4,
  "nbformat_minor": 2
}
