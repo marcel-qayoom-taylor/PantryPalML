{
  "cells": [
    {
      "cell_type": "markdown",
      "metadata": {},
      "source": [
        "## Text Feature Encodings (optional)\n",
        "\n",
        "This version supports adding numeric encodings for select text fields so LightGBM can use them.\n",
        "\n",
        "- Turn on via `config.text_encoding.enable_text_features = True`\n",
        "- Defaults (simple, low‑dependency):\n",
        "  - `author_id`: frequency (or target) encoding\n",
        "  - `tags`: top‑K multi‑hot (or hashing)\n",
        "  - `recipe_name`: word n‑gram hashing\n",
        "  - `description`/`instruction`: disabled by default\n",
        "- Encoders are fit on training split only and applied to all splits and inference.\n",
        "- Persisted artifacts (when applicable) are saved to `output/hybrid_models/text_vectorizers/`.\n",
        "\n",
        "Example:\n",
        "```python\n",
        "from recipe_recommender.config import get_ml_config\n",
        "\n",
        "config = get_ml_config()\n",
        "config.text_encoding.enable_text_features = True\n",
        "config.text_encoding.tags_encoding = \"topk_multi_hot\"\n",
        "config.text_encoding.tags_top_k = 50\n",
        "config.text_encoding.author_id_encoding = \"freq\"  # or \"target\"\n",
        "config.text_encoding.name_encoding = \"hashing\"\n",
        "# description/instruction remain disabled by default\n",
        "```\n",
        "\n",
        "Outputs:\n",
        "- `output/enhanced_recipe_features_encoded.csv` (for inference loading)\n",
        "- Updated `hybrid_feature_columns.txt` and `hybrid_training_metadata.json` with text feature info.\n",
        "\n"
      ]
    },
    {
      "cell_type": "markdown",
      "metadata": {},
      "source": [
        "# PantryPalML: Production Training Notebook\n",
        "\n",
        "This notebook demonstrates how I build and train the actual production model used by `ProductionRecipeScorer`.\n",
        "\n",
        "It reuses our production modules via imports (no code duplication) and shows:\n",
        "- Environment setup (Colab-friendly)\n",
        "- Data preparation using `HybridRecommendationDataBuilder`\n",
        "- Model training, evaluation, and saving via `HybridGBMRecommender`\n",
        "- Artifacts produced for inference (model + metadata)\n",
        "- Brief discussion of task, loss, metrics, and practical objective alignment\n"
      ]
    },
    {
      "cell_type": "code",
      "execution_count": 1,
      "metadata": {},
      "outputs": [
        {
          "name": "stdout",
          "output_type": "stream",
          "text": [
            "Environment ready. Project root: /Users/marcelqayoomtaylor/Documents/GitHub/PantryPalML/notebooks\n"
          ]
        }
      ],
      "source": [
        "# Colab/Local environment setup (silent if local)\n",
        "import sys, subprocess, os, pathlib\n",
        "\n",
        "IN_COLAB = \"google.colab\" in sys.modules\n",
        "repo_root = pathlib.Path.cwd()\n",
        "\n",
        "if IN_COLAB:\n",
        "    try:\n",
        "        subprocess.run([sys.executable, \"-m\", \"pip\", \"install\", \"-q\",\n",
        "                        \"lightgbm\", \"pandas\", \"numpy\", \"scikit-learn\", \"matplotlib\", \"seaborn\"],\n",
        "                       check=False)\n",
        "    except Exception as e:\n",
        "        print(f\"pip install warning: {e}\")\n",
        "\n",
        "    if not (repo_root / \"recipe_recommender\").exists():\n",
        "        subprocess.run([\"git\", \"clone\", \"-q\", \"https://github.com/marcel-qayoom-taylor/PantryPalML.git\"], check=True)\n",
        "        os.chdir(\"PantryPalML\")\n",
        "        repo_root = pathlib.Path.cwd()\n",
        "\n",
        "print(f\"Environment ready. Project root: {repo_root}\")\n"
      ]
    },
    {
      "cell_type": "code",
      "execution_count": 2,
      "metadata": {},
      "outputs": [
        {
          "name": "stdout",
          "output_type": "stream",
          "text": [
            "Config paths:\n",
            " - output_dir: /Users/marcelqayoomtaylor/Documents/GitHub/PantryPalML/recipe_recommender/output\n",
            " - input_dir: /Users/marcelqayoomtaylor/Documents/GitHub/PantryPalML/recipe_recommender/input\n",
            " - model_dir: /Users/marcelqayoomtaylor/Documents/GitHub/PantryPalML/recipe_recommender/output/hybrid_models\n"
          ]
        }
      ],
      "source": [
        "# Imports from production codebase\n",
        "from pathlib import Path\n",
        "from recipe_recommender.config import get_ml_config\n",
        "from recipe_recommender.models.hybrid_recommendation_data_builder import HybridRecommendationDataBuilder\n",
        "from recipe_recommender.models.hybrid_gbm_recommender import HybridGBMRecommender\n",
        "\n",
        "# Central config object (paths, hyperparams, event weights)\n",
        "config = get_ml_config()\n",
        "print(\"Config paths:\")\n",
        "print(\" - output_dir:\", config.output_dir)\n",
        "print(\" - input_dir:\", config.input_dir)\n",
        "print(\" - model_dir:\", config.model_dir)\n"
      ]
    },
    {
      "cell_type": "markdown",
      "metadata": {},
      "source": [
        "### Build Training Data\n",
        "I create ML-ready datasets from our real event logs + recipe DB extracts using `HybridRecommendationDataBuilder`.\n"
      ]
    },
    {
      "cell_type": "code",
      "execution_count": 3,
      "metadata": {},
      "outputs": [
        {
          "name": "stderr",
          "output_type": "stream",
          "text": [
            "2025-09-20 20:30:36,861 - recipe_recommender.models.hybrid_recommendation_data_builder - INFO - 🏗️ Initialized Hybrid Recommendation Data Builder\n",
            "2025-09-20 20:30:36,862 - recipe_recommender.models.hybrid_recommendation_data_builder - INFO - 📊 Loading real recipe database...\n",
            "2025-09-20 20:30:36,878 - recipe_recommender.models.hybrid_recommendation_data_builder - INFO - ✅ Loaded 1967 recipes with enhanced features\n",
            "2025-09-20 20:30:36,883 - recipe_recommender.models.hybrid_recommendation_data_builder - INFO - ✅ Loaded 21439 recipe-ingredient relationships\n",
            "2025-09-20 20:30:36,885 - recipe_recommender.models.hybrid_recommendation_data_builder - INFO - ✅ Loaded 2092 ingredients\n",
            "2025-09-20 20:30:36,886 - recipe_recommender.models.hybrid_recommendation_data_builder - INFO - 📱 Extracting user interactions from events...\n",
            "2025-09-20 20:30:36,886 - recipe_recommender.models.hybrid_recommendation_data_builder - INFO -    Processing v1_events_20250827.json...\n",
            "2025-09-20 20:30:37,151 - recipe_recommender.models.hybrid_recommendation_data_builder - INFO -    Processing v2_events_20250920.json...\n",
            "2025-09-20 20:30:37,297 - recipe_recommender.models.hybrid_recommendation_data_builder - INFO - ✅ Extracted 9490 interactions\n",
            "2025-09-20 20:30:37,300 - recipe_recommender.models.hybrid_recommendation_data_builder - INFO -    Users: 847\n",
            "2025-09-20 20:30:37,301 - recipe_recommender.models.hybrid_recommendation_data_builder - INFO -    Recipes: 4152\n",
            "2025-09-20 20:30:37,302 - recipe_recommender.models.hybrid_recommendation_data_builder - INFO -    Event types: ['Recipe Viewed', 'Recipe Cooked', 'Recipe Link Clicked', 'Recipe Favourited', 'Recipe Added To Collections', 'Recipe Removed From Collections', 'Recipe Cook Started']\n",
            "2025-09-20 20:30:37,303 - recipe_recommender.models.hybrid_recommendation_data_builder - INFO - 👤 Creating user profiles...\n",
            "2025-09-20 20:30:37,366 - recipe_recommender.models.hybrid_recommendation_data_builder - INFO - ✅ Created profiles for 847 users\n",
            "2025-09-20 20:30:37,367 - recipe_recommender.models.hybrid_recommendation_data_builder - INFO - 🔗 Creating user-recipe training pairs...\n",
            "2025-09-20 20:30:37,405 - recipe_recommender.models.hybrid_recommendation_data_builder - INFO - ✅ Created 4197 positive pairs\n",
            "2025-09-20 20:30:37,406 - recipe_recommender.models.hybrid_recommendation_data_builder - INFO - 🔄 Generating negative samples...\n",
            "2025-09-20 20:30:37,979 - recipe_recommender.models.hybrid_recommendation_data_builder - INFO - ✅ Created 16788 negative pairs\n",
            "2025-09-20 20:30:37,981 - recipe_recommender.models.hybrid_recommendation_data_builder - INFO - 📊 Total training pairs: 20985\n",
            "2025-09-20 20:30:37,981 - recipe_recommender.models.hybrid_recommendation_data_builder - INFO -    Positive: 4197 (20.0%)\n",
            "2025-09-20 20:30:37,981 - recipe_recommender.models.hybrid_recommendation_data_builder - INFO -    Negative: 16788 (80.0%)\n",
            "2025-09-20 20:30:37,982 - recipe_recommender.models.hybrid_recommendation_data_builder - INFO - 🎯 PREPARING TRAINING DATA FOR HYBRID RECOMMENDATION MODEL\n",
            "2025-09-20 20:30:37,982 - recipe_recommender.models.hybrid_recommendation_data_builder - INFO - ======================================================================\n",
            "2025-09-20 20:30:37,982 - recipe_recommender.models.hybrid_recommendation_data_builder - INFO - 📊 Loading real recipe database...\n",
            "2025-09-20 20:30:37,995 - recipe_recommender.models.hybrid_recommendation_data_builder - INFO - ✅ Loaded 1967 recipes with enhanced features\n",
            "2025-09-20 20:30:37,998 - recipe_recommender.models.hybrid_recommendation_data_builder - INFO - ✅ Loaded 21439 recipe-ingredient relationships\n",
            "2025-09-20 20:30:38,000 - recipe_recommender.models.hybrid_recommendation_data_builder - INFO - ✅ Loaded 2092 ingredients\n",
            "2025-09-20 20:30:38,001 - recipe_recommender.models.hybrid_recommendation_data_builder - INFO - 📱 Extracting user interactions from events...\n",
            "2025-09-20 20:30:38,001 - recipe_recommender.models.hybrid_recommendation_data_builder - INFO -    Processing v1_events_20250827.json...\n",
            "2025-09-20 20:30:38,319 - recipe_recommender.models.hybrid_recommendation_data_builder - INFO -    Processing v2_events_20250920.json...\n",
            "2025-09-20 20:30:38,470 - recipe_recommender.models.hybrid_recommendation_data_builder - INFO - ✅ Extracted 9490 interactions\n",
            "2025-09-20 20:30:38,471 - recipe_recommender.models.hybrid_recommendation_data_builder - INFO -    Users: 847\n",
            "2025-09-20 20:30:38,472 - recipe_recommender.models.hybrid_recommendation_data_builder - INFO -    Recipes: 4152\n",
            "2025-09-20 20:30:38,473 - recipe_recommender.models.hybrid_recommendation_data_builder - INFO -    Event types: ['Recipe Viewed', 'Recipe Cooked', 'Recipe Link Clicked', 'Recipe Favourited', 'Recipe Added To Collections', 'Recipe Removed From Collections', 'Recipe Cook Started']\n",
            "2025-09-20 20:30:38,474 - recipe_recommender.models.hybrid_recommendation_data_builder - INFO - 👤 Creating user profiles...\n",
            "2025-09-20 20:30:38,602 - recipe_recommender.models.hybrid_recommendation_data_builder - INFO - ✅ Created profiles for 847 users\n",
            "2025-09-20 20:30:38,602 - recipe_recommender.models.hybrid_recommendation_data_builder - INFO - 🔗 Creating user-recipe training pairs...\n",
            "2025-09-20 20:30:38,640 - recipe_recommender.models.hybrid_recommendation_data_builder - INFO - ✅ Created 4197 positive pairs\n",
            "2025-09-20 20:30:38,640 - recipe_recommender.models.hybrid_recommendation_data_builder - INFO - 🔄 Generating negative samples...\n",
            "2025-09-20 20:30:39,182 - recipe_recommender.models.hybrid_recommendation_data_builder - INFO - ✅ Created 16788 negative pairs\n",
            "2025-09-20 20:30:39,184 - recipe_recommender.models.hybrid_recommendation_data_builder - INFO - 📊 Total training pairs: 20985\n",
            "2025-09-20 20:30:39,184 - recipe_recommender.models.hybrid_recommendation_data_builder - INFO -    Positive: 4197 (20.0%)\n",
            "2025-09-20 20:30:39,184 - recipe_recommender.models.hybrid_recommendation_data_builder - INFO -    Negative: 16788 (80.0%)\n",
            "2025-09-20 20:30:39,185 - recipe_recommender.models.hybrid_recommendation_data_builder - INFO - 🔧 Creating comprehensive training features...\n",
            "2025-09-20 20:30:39,239 - recipe_recommender.models.hybrid_recommendation_data_builder - INFO - ✅ Created training dataset with 20985 samples and 40 features\n",
            "2025-09-20 20:30:39,240 - recipe_recommender.models.hybrid_recommendation_data_builder - INFO - 📊 Creating train/validation/test splits...\n",
            "2025-09-20 20:30:39,255 - recipe_recommender.models.hybrid_recommendation_data_builder - INFO - ✅ Data splits created:\n",
            "2025-09-20 20:30:39,255 - recipe_recommender.models.hybrid_recommendation_data_builder - INFO -    Train: 12591 samples (60.0%)\n",
            "2025-09-20 20:30:39,256 - recipe_recommender.models.hybrid_recommendation_data_builder - INFO -    Validation: 4197 samples (20.0%)\n",
            "2025-09-20 20:30:39,256 - recipe_recommender.models.hybrid_recommendation_data_builder - INFO -    Test: 4197 samples (20.0%)\n",
            "2025-09-20 20:30:39,629 - recipe_recommender.models.hybrid_recommendation_data_builder - INFO - \n",
            "💾 Saved training data:\n",
            "2025-09-20 20:30:39,629 - recipe_recommender.models.hybrid_recommendation_data_builder - INFO -    - hybrid_train_data.csv (12591 samples)\n",
            "2025-09-20 20:30:39,629 - recipe_recommender.models.hybrid_recommendation_data_builder - INFO -    - hybrid_val_data.csv (4197 samples)\n",
            "2025-09-20 20:30:39,629 - recipe_recommender.models.hybrid_recommendation_data_builder - INFO -    - hybrid_test_data.csv (4197 samples)\n",
            "2025-09-20 20:30:39,630 - recipe_recommender.models.hybrid_recommendation_data_builder - INFO -    - hybrid_feature_columns.txt (36 features)\n",
            "2025-09-20 20:30:39,630 - recipe_recommender.models.hybrid_recommendation_data_builder - INFO -    - hybrid_training_metadata.json\n"
          ]
        },
        {
          "name": "stdout",
          "output_type": "stream",
          "text": [
            "(12591, 40) (4197, 40) (4197, 40)\n"
          ]
        }
      ],
      "source": [
        "# Build datasets. Orchestrates loading and feature engineering\n",
        "builder = HybridRecommendationDataBuilder(config)  # \n",
        "\n",
        "# Reads recipe input data\n",
        "ok_recipes = builder.load_real_recipe_data()\n",
        "# Reads user interaction historuy\n",
        "ok_events = builder.extract_user_interactions_from_events()\n",
        "\n",
        "if not (ok_recipes and ok_events):\n",
        "    raise RuntimeError(\"Missing required data files. Ensure recipe and event outputs exist in recipe_recommender/output.\")\n",
        "\n",
        "# Aggregates per-user stats (avg/total rating, activity, device/platform, engagement)\n",
        "user_profiles = builder.create_user_profiles()\n",
        "# Generates positive/negative user–recipe pairs with labels\n",
        "training_pairs = builder.create_user_recipe_pairs()\n",
        "# Final feature matrix + train/val/test CSVs and metadata/feature list\n",
        "train_df, val_df, test_df = builder.prepare_training_data()\n",
        "\n",
        "print(train_df.shape, val_df.shape, test_df.shape)\n"
      ]
    },
    {
      "cell_type": "markdown",
      "metadata": {},
      "source": [
        "### Train, Evaluate, Save Model\n",
        "I train `HybridGBMRecommender`, evaluate on validation data with appropriate metrics, and save artifacts used by inference.\n"
      ]
    },
    {
      "cell_type": "code",
      "execution_count": 4,
      "metadata": {},
      "outputs": [
        {
          "name": "stderr",
          "output_type": "stream",
          "text": [
            "2025-09-20 20:30:39,636 - recipe_recommender.models.hybrid_gbm_recommender - INFO - 🚀 Initialized GBM Recommender with lightgbm\n",
            "2025-09-20 20:30:39,637 - recipe_recommender.models.hybrid_gbm_recommender - INFO - 📊 Loading training data...\n",
            "2025-09-20 20:30:39,755 - recipe_recommender.models.hybrid_gbm_recommender - INFO - ✅ Successfully loaded training data:\n",
            "2025-09-20 20:30:39,755 - recipe_recommender.models.hybrid_gbm_recommender - INFO -    Train: 12,591 samples\n",
            "2025-09-20 20:30:39,755 - recipe_recommender.models.hybrid_gbm_recommender - INFO -    Validation: 4,197 samples\n",
            "2025-09-20 20:30:39,755 - recipe_recommender.models.hybrid_gbm_recommender - INFO -    Test: 4,197 samples\n",
            "2025-09-20 20:30:39,756 - recipe_recommender.models.hybrid_gbm_recommender - INFO - 📋 Loaded 36 feature columns\n",
            "2025-09-20 20:30:39,757 - recipe_recommender.models.hybrid_gbm_recommender - INFO - 📋 Loaded training metadata\n",
            "2025-09-20 20:30:39,767 - recipe_recommender.models.hybrid_gbm_recommender - INFO - ✅ Loaded 1967 recipes for scoring\n",
            "2025-09-20 20:30:39,768 - recipe_recommender.models.hybrid_gbm_recommender - INFO - 🚀 Training LIGHTGBM model...\n",
            "2025-09-20 20:30:39,768 - recipe_recommender.models.hybrid_gbm_recommender - INFO - 🔧 Preparing features for training...\n",
            "2025-09-20 20:30:39,769 - recipe_recommender.models.hybrid_gbm_recommender - INFO - 📊 Using 22 numeric features\n",
            "2025-09-20 20:30:39,770 - recipe_recommender.models.hybrid_gbm_recommender - INFO - 📊 Training data shape: (12591, 22)\n",
            "2025-09-20 20:30:39,771 - recipe_recommender.models.hybrid_gbm_recommender - INFO -    Positive samples: 2,518 (20.0%)\n"
          ]
        },
        {
          "name": "stdout",
          "output_type": "stream",
          "text": [
            "Training until validation scores don't improve for 50 rounds\n"
          ]
        },
        {
          "name": "stderr",
          "output_type": "stream",
          "text": [
            "2025-09-20 20:30:40,616 - recipe_recommender.models.hybrid_gbm_recommender - INFO - ✅ Model training completed!\n",
            "2025-09-20 20:30:40,617 - recipe_recommender.models.hybrid_gbm_recommender - INFO - 📈 Evaluating model performance...\n"
          ]
        },
        {
          "name": "stdout",
          "output_type": "stream",
          "text": [
            "[100]\ttrain's binary_logloss: 0.00384467\tvalidation's binary_logloss: 0.0351023\n",
            "Early stopping, best iteration is:\n",
            "[63]\ttrain's binary_logloss: 0.00903672\tvalidation's binary_logloss: 0.0303626\n"
          ]
        },
        {
          "name": "stderr",
          "output_type": "stream",
          "text": [
            "2025-09-20 20:30:40,963 - recipe_recommender.models.hybrid_gbm_recommender - INFO - 📊 MODEL PERFORMANCE:\n",
            "2025-09-20 20:30:40,964 - recipe_recommender.models.hybrid_gbm_recommender - INFO -    AUC: 0.9987 (0.5=random, 1.0=perfect)\n",
            "2025-09-20 20:30:40,964 - recipe_recommender.models.hybrid_gbm_recommender - INFO -    Precision: 0.9926\n",
            "2025-09-20 20:30:40,964 - recipe_recommender.models.hybrid_gbm_recommender - INFO -    Recall: 0.9583\n",
            "2025-09-20 20:30:40,964 - recipe_recommender.models.hybrid_gbm_recommender - INFO -    F1-Score: 0.9751\n",
            "2025-09-20 20:30:40,965 - recipe_recommender.models.hybrid_gbm_recommender - INFO -    NDCG@5: 0.6383\n",
            "2025-09-20 20:30:40,965 - recipe_recommender.models.hybrid_gbm_recommender - INFO -    NDCG@10: 0.6433\n",
            "2025-09-20 20:30:40,968 - recipe_recommender.models.hybrid_gbm_recommender - INFO - 💾 Saving trained model...\n",
            "2025-09-20 20:30:40,970 - recipe_recommender.models.hybrid_gbm_recommender - INFO - ✅ Model saved to: hybrid_lightgbm_model.txt\n",
            "2025-09-20 20:30:40,970 - recipe_recommender.models.hybrid_gbm_recommender - INFO - ✅ Metadata saved to: hybrid_lightgbm_metadata.json\n"
          ]
        },
        {
          "name": "stdout",
          "output_type": "stream",
          "text": [
            "Top 10 features:\n",
            "                          feature    importance\n",
            "17         user_complexity_match  36522.389740\n",
            "18  user_recipe_engagement_match  10890.626203\n",
            "20                is_mobile_user   1135.670645\n",
            "13              ingredient_count    920.622285\n",
            "10                    total_time    653.630570\n",
            "11                      servings    443.509857\n",
            "1                     avg_rating    410.598063\n",
            "19       user_time_compatibility    314.900758\n",
            "3                     rating_std    314.642685\n",
            "21                   is_ios_user    236.938262\n",
            "Artifacts saved in: /Users/marcelqayoomtaylor/Documents/GitHub/PantryPalML/recipe_recommender/output/hybrid_models\n"
          ]
        }
      ],
      "source": [
        "# Train and evaluate\n",
        "recommender = HybridGBMRecommender(config)  # wraps LightGBM with config-driven hyperparams and tracked features\n",
        "\n",
        "# Reads train/val/test CSVs prepared by the data builder\n",
        "recommender.load_training_data()\n",
        "# Ensures recipe-level features are available (used for context/eval)\n",
        "recommender.load_recipe_features()\n",
        "\n",
        "# Fits LightGBM (binary logloss) with early stopping on validation set\n",
        "recommender.train_model()\n",
        "\n",
        "# Reports AUC/Precision/Recall/F1 and per-user NDCG@k ranking metrics\n",
        "recommender.evaluate_model()\n",
        "# LightGBM feature importance by gain (sum loss reduction per feature)\n",
        "importance = recommender.get_feature_importance()\n",
        "print(\"Top 10 features:\\n\", importance.head(10))\n",
        "\n",
        "# Writes booster + metadata (feature columns, config, training stats) to model_dir\n",
        "recommender.save_model()\n",
        "\n",
        "print(\"Artifacts saved in:\", config.model_dir)\n"
      ]
    },
    {
      "cell_type": "markdown",
      "metadata": {},
      "source": [
        "### Notes on Learning Task and Objective\n",
        "- Input (train): user–recipe feature matrix with label indicating positive interaction\n",
        "- Output (deploy): score per recipe for a given user\n",
        "- Learning objective: LightGBM binary logloss; practical objective: top-N ranking quality (monitored with AUC, AP, NDCG)\n",
        "- Alignment: I tune thresholding/ranking and measure ranking metrics to reflect deployment goals\n"
      ]
    },
    {
      "cell_type": "markdown",
      "metadata": {},
      "source": [
        "### Smoke Test: Saved Artifacts\n",
        "Verify that the trained model and metadata were written to `config.model_dir`.\n"
      ]
    },
    {
      "cell_type": "code",
      "execution_count": 5,
      "metadata": {},
      "outputs": [
        {
          "name": "stdout",
          "output_type": "stream",
          "text": [
            "Model exists: True /Users/marcelqayoomtaylor/Documents/GitHub/PantryPalML/recipe_recommender/output/hybrid_models/hybrid_lightgbm_model.txt\n",
            "Metadata exists: True /Users/marcelqayoomtaylor/Documents/GitHub/PantryPalML/recipe_recommender/output/hybrid_models/hybrid_lightgbm_metadata.json\n"
          ]
        }
      ],
      "source": [
        "from pathlib import Path\n",
        "model_file = config.model_dir / \"hybrid_lightgbm_model.txt\"\n",
        "meta_file = config.model_dir / \"hybrid_lightgbm_metadata.json\"\n",
        "\n",
        "print(\"Model exists:\", model_file.exists(), model_file)\n",
        "print(\"Metadata exists:\", meta_file.exists(), meta_file)\n"
      ]
    }
  ],
  "metadata": {
    "kernelspec": {
      "display_name": ".venv",
      "language": "python",
      "name": "python3"
    },
    "language_info": {
      "codemirror_mode": {
        "name": "ipython",
        "version": 3
      },
      "file_extension": ".py",
      "mimetype": "text/x-python",
      "name": "python",
      "nbconvert_exporter": "python",
      "pygments_lexer": "ipython3",
      "version": "3.12.9"
    }
  },
  "nbformat": 4,
  "nbformat_minor": 2
}
