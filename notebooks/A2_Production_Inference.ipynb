{
  "cells": [
    {
      "cell_type": "markdown",
      "metadata": {},
      "source": [
        "# PantryPalML: Production Inference Notebook\n",
        "\n",
        "This notebook demonstrates real inference using the saved production model and the `ProductionRecipeScorer` API.\n",
        "\n",
        "It shows:\n",
        "- Environment setup (Colab-friendly)\n",
        "- Loading saved model + metadata\n",
        "- Fetching user interactions with `UserInteractionFetcher`\n",
        "- Generating top-N recommendations with `ProductionRecipeScorer`\n",
        "- Basic validation and smoke tests\n"
      ]
    },
    {
      "cell_type": "code",
      "execution_count": 1,
      "metadata": {},
      "outputs": [
        {
          "name": "stdout",
          "output_type": "stream",
          "text": [
            "Environment ready. Project root: /Users/marcelqayoomtaylor/Documents/GitHub/PantryPalML/notebooks\n"
          ]
        }
      ],
      "source": [
        "# Colab/Local environment setup (silent if local)\n",
        "import sys, subprocess, os, pathlib\n",
        "\n",
        "IN_COLAB = \"google.colab\" in sys.modules\n",
        "repo_root = pathlib.Path.cwd()\n",
        "\n",
        "if IN_COLAB:\n",
        "    try:\n",
        "        subprocess.run([sys.executable, \"-m\", \"pip\", \"install\", \"-q\",\n",
        "                        \"lightgbm\", \"pandas\", \"numpy\", \"scikit-learn\"],\n",
        "                       check=False)\n",
        "    except Exception as e:\n",
        "        print(f\"pip install warning: {e}\")\n",
        "\n",
        "    if not (repo_root / \"recipe_recommender\").exists():\n",
        "        subprocess.run([\"git\", \"-c\", \"advice.detachedHead=false\", \"clone\", \"-q\", \"https://github.com/marcel-qayoom-taylor/PantryPalML.git\"], check=True)\n",
        "        os.chdir(\"PantryPalML\")\n",
        "        repo_root = pathlib.Path.cwd()\n",
        "\n",
        "print(f\"Environment ready. Project root: {repo_root}\")\n"
      ]
    },
    {
      "cell_type": "code",
      "execution_count": 2,
      "metadata": {},
      "outputs": [
        {
          "name": "stdout",
          "output_type": "stream",
          "text": [
            "Model dir: /Users/marcelqayoomtaylor/Documents/GitHub/PantryPalML/recipe_recommender/output/hybrid_models\n",
            "Output dir: /Users/marcelqayoomtaylor/Documents/GitHub/PantryPalML/recipe_recommender/output\n"
          ]
        }
      ],
      "source": [
        "# Central paths + defaults (output/input/model, weights, params)\n",
        "from recipe_recommender.config import get_ml_config\n",
        "\n",
        "# Streams/filters combined_events.csv to user-level interaction list for recipes\n",
        "from recipe_recommender.etl.fetch_user_interactions import UserInteractionFetcher\n",
        "\n",
        "# Loads saved LightGBM + metadata, builds user profile features, scores all recipes\n",
        "from recipe_recommender.inference.recipe_scorer import RecipeScorer\n",
        "\n",
        "config = get_ml_config()\n",
        "print(\"Model dir:\", config.model_dir)\n",
        "print(\"Output dir:\", config.output_dir)\n"
      ]
    },
    {
      "cell_type": "markdown",
      "metadata": {},
      "source": [
        "### Load Model and Generate Recommendations\n",
        "We load the saved LightGBM booster and metadata via `ProductionRecipeScorer` and score recipes for a user.\n"
      ]
    },
    {
      "cell_type": "code",
      "execution_count": 3,
      "metadata": {},
      "outputs": [
        {
          "name": "stderr",
          "output_type": "stream",
          "text": [
            "2025-09-29 18:02:16,314 - recipe_recommender.etl.fetch_user_interactions - INFO - Initialized UserInteractionFetcher\n",
            "2025-09-29 18:02:16,314 - recipe_recommender.etl.fetch_user_interactions - INFO -    Events file: /Users/marcelqayoomtaylor/Documents/GitHub/PantryPalML/recipe_recommender/output/combined_events.csv\n",
            "2025-09-29 18:02:16,314 - recipe_recommender.etl.fetch_user_interactions - INFO -    Tracking 8 event types\n",
            "2025-09-29 18:02:16,315 - recipe_recommender.etl.fetch_user_interactions - INFO - Fetching interactions for user: afcacbe1-eaba-415f-b03e-14ed682af65e\n",
            "2025-09-29 18:02:16,315 - recipe_recommender.etl.fetch_user_interactions - INFO - Reading events file in chunks\n",
            "2025-09-29 18:02:16,422 - recipe_recommender.etl.fetch_user_interactions - INFO -    Processed 50,000 rows, found 0 matches...\n",
            "2025-09-29 18:02:16,459 - recipe_recommender.etl.fetch_user_interactions - INFO - Found 74 recipe interactions for user afcacbe1-eaba-415f-b03e-14ed682af65e\n",
            "2025-09-29 18:02:16,460 - recipe_recommender.etl.fetch_user_interactions - INFO -    Processed 63,662 total events\n",
            "2025-09-29 18:02:16,460 - recipe_recommender.etl.fetch_user_interactions - INFO -    Time range: 2025-06-03 to 2025-08-24\n",
            "2025-09-29 18:02:16,461 - recipe_recommender.etl.fetch_user_interactions - INFO -    Event breakdown: {'Recipe Added To Collections': 10, 'Recipe Removed From Collections': 2, 'Recipe Link Clicked': 31, 'Recipe Cook Started': 9, 'Recipe Cooked': 8, 'Recipe Search Queried': 14}\n",
            "2025-09-29 18:02:16,462 - recipe_recommender.inference.recipe_scorer - INFO - Initializing Recipe Scorer\n",
            "2025-09-29 18:02:16,463 - recipe_recommender.inference.recipe_scorer - INFO - Loading trained model components...\n",
            "2025-09-29 18:02:16,468 - recipe_recommender.inference.recipe_scorer - INFO - Loaded LIGHTGBM model\n",
            "2025-09-29 18:02:16,469 - recipe_recommender.inference.recipe_scorer - INFO - Loaded model metadata with 19 features\n",
            "2025-09-29 18:02:16,482 - recipe_recommender.inference.recipe_scorer - INFO - Loaded raw recipe features from enhanced_recipe_features_from_db.csv\n",
            "2025-09-29 18:02:16,483 - recipe_recommender.inference.recipe_scorer - INFO - Loaded 1967 recipes for scoring\n",
            "2025-09-29 18:02:16,484 - recipe_recommender.inference.recipe_scorer - INFO - Scoring 1967 recipes for user\n"
          ]
        },
        {
          "name": "stdout",
          "output_type": "stream",
          "text": [
            "Using user: afcacbe1-eaba-415f-b03e-14ed682af65e\n"
          ]
        },
        {
          "name": "stderr",
          "output_type": "stream",
          "text": [
            "2025-09-29 18:02:16,576 - recipe_recommender.inference.recipe_scorer - INFO - Generated scores for 1967 recipes\n",
            "2025-09-29 18:02:16,576 - recipe_recommender.inference.recipe_scorer - INFO -    Score range: -0.0871 - -0.0405\n",
            "2025-09-29 18:02:16,576 - recipe_recommender.inference.recipe_scorer - INFO -    No threshold; selecting by top-N\n",
            "2025-09-29 18:02:16,577 - recipe_recommender.inference.recipe_scorer - INFO -    Returning top 10 recommendations\n"
          ]
        },
        {
          "data": {
            "text/html": [
              "<div>\n",
              "<style scoped>\n",
              "    .dataframe tbody tr th:only-of-type {\n",
              "        vertical-align: middle;\n",
              "    }\n",
              "\n",
              "    .dataframe tbody tr th {\n",
              "        vertical-align: top;\n",
              "    }\n",
              "\n",
              "    .dataframe thead th {\n",
              "        text-align: right;\n",
              "    }\n",
              "</style>\n",
              "<table border=\"1\" class=\"dataframe\">\n",
              "  <thead>\n",
              "    <tr style=\"text-align: right;\">\n",
              "      <th></th>\n",
              "      <th>recipe_id</th>\n",
              "      <th>recipe_name</th>\n",
              "      <th>score</th>\n",
              "    </tr>\n",
              "  </thead>\n",
              "  <tbody>\n",
              "    <tr>\n",
              "      <th>0</th>\n",
              "      <td>1228</td>\n",
              "      <td>Mexican Shrimp</td>\n",
              "      <td>-0.040458</td>\n",
              "    </tr>\n",
              "    <tr>\n",
              "      <th>1</th>\n",
              "      <td>1232</td>\n",
              "      <td>Instant Pot Chicken Mole</td>\n",
              "      <td>-0.040458</td>\n",
              "    </tr>\n",
              "    <tr>\n",
              "      <th>2</th>\n",
              "      <td>1264</td>\n",
              "      <td>Carrot Cake Muffins</td>\n",
              "      <td>-0.040458</td>\n",
              "    </tr>\n",
              "    <tr>\n",
              "      <th>3</th>\n",
              "      <td>1338</td>\n",
              "      <td>Crock Pot Chicken Tortilla Soup</td>\n",
              "      <td>-0.040458</td>\n",
              "    </tr>\n",
              "    <tr>\n",
              "      <th>4</th>\n",
              "      <td>1440</td>\n",
              "      <td>Slow Cooker Butter Chicken</td>\n",
              "      <td>-0.040458</td>\n",
              "    </tr>\n",
              "    <tr>\n",
              "      <th>5</th>\n",
              "      <td>1483</td>\n",
              "      <td>Pumpkin Monkey Bread</td>\n",
              "      <td>-0.040458</td>\n",
              "    </tr>\n",
              "    <tr>\n",
              "      <th>6</th>\n",
              "      <td>1537</td>\n",
              "      <td>Chile Verde Pork</td>\n",
              "      <td>-0.040458</td>\n",
              "    </tr>\n",
              "    <tr>\n",
              "      <th>7</th>\n",
              "      <td>1589</td>\n",
              "      <td>Healthy Cranberry Apricot Bars</td>\n",
              "      <td>-0.040458</td>\n",
              "    </tr>\n",
              "    <tr>\n",
              "      <th>8</th>\n",
              "      <td>1601</td>\n",
              "      <td>Moroccan Meatballs</td>\n",
              "      <td>-0.040458</td>\n",
              "    </tr>\n",
              "    <tr>\n",
              "      <th>9</th>\n",
              "      <td>1606</td>\n",
              "      <td>Instant Pot Vegetarian Chili</td>\n",
              "      <td>-0.040458</td>\n",
              "    </tr>\n",
              "  </tbody>\n",
              "</table>\n",
              "</div>"
            ],
            "text/plain": [
              "  recipe_id                      recipe_name     score\n",
              "0      1228                   Mexican Shrimp -0.040458\n",
              "1      1232         Instant Pot Chicken Mole -0.040458\n",
              "2      1264              Carrot Cake Muffins -0.040458\n",
              "3      1338  Crock Pot Chicken Tortilla Soup -0.040458\n",
              "4      1440       Slow Cooker Butter Chicken -0.040458\n",
              "5      1483             Pumpkin Monkey Bread -0.040458\n",
              "6      1537                 Chile Verde Pork -0.040458\n",
              "7      1589   Healthy Cranberry Apricot Bars -0.040458\n",
              "8      1601               Moroccan Meatballs -0.040458\n",
              "9      1606     Instant Pot Vegetarian Chili -0.040458"
            ]
          },
          "metadata": {},
          "output_type": "display_data"
        }
      ],
      "source": [
        "# Fetch interactions and run inference\n",
        "fetcher = UserInteractionFetcher(config)\n",
        "\n",
        "# Example: pick a user with interactions (you can replace with a known user_id)\n",
        "sample_user_id = 'afcacbe1-eaba-415f-b03e-14ed682af65e'\n",
        "\n",
        "# # Quickly sample a user from events file\n",
        "# import pandas as pd\n",
        "# try:\n",
        "#     events_path = config.output_dir / \"combined_events.csv\"\n",
        "#     if events_path.exists():\n",
        "#         df_head = pd.read_csv(events_path)\n",
        "#         # value_counts over recipe-related events finds an active user candidate\n",
        "#         candidates = (\n",
        "#             df_head[df_head[\"event\"].isin(fetcher.recipe_events)][\"distinct_id\"].value_counts()\n",
        "#         )\n",
        "#         if len(candidates) > 0:\n",
        "#             sample_user_id = candidates.index[0]\n",
        "# except Exception as e:\n",
        "#     print(\"Warning reading events head:\", e)\n",
        "\n",
        "if sample_user_id is None:\n",
        "    sample_user_id = \"demo_user_123\"  # fallback for demo\n",
        "\n",
        "print(\"Using user:\", sample_user_id)\n",
        "# Returns list[dict] with event_type, timestamp, optional recipe_id\n",
        "interactions = fetcher.fetch_user_interactions(sample_user_id)\n",
        "\n",
        "# Loads saved booster + metadata, builds user profile features, scores all recipes\n",
        "scorer = RecipeScorer(config)\n",
        "# Returns ranked recommendations with scores and metadata\n",
        "result = scorer.get_user_recipe_recommendations(sample_user_id, interactions, n_recommendations=10)\n",
        "\n",
        "# Display top results (robust to empty results)\n",
        "import pandas as pd\n",
        "recs_df = pd.DataFrame(result.get(\"recommendations\", []))[:10]\n",
        "if recs_df.empty:\n",
        "    print(\"No recommendations returned.\")\n",
        "else:\n",
        "    display(recs_df[[\"recipe_id\", \"recipe_name\", \"score\"]])\n"
      ]
    },
    {
      "cell_type": "code",
      "execution_count": 4,
      "metadata": {},
      "outputs": [
        {
          "name": "stdout",
          "output_type": "stream",
          "text": [
            "SMOKE TEST: PASS\n",
            "Top recommendation: Mexican Shrimp (score=-0.0405)\n"
          ]
        }
      ],
      "source": [
        "# Smoke tests\n",
        "errors = []\n",
        "\n",
        "# 1) Model artifacts exist\n",
        "model_file = config.model_dir / \"hybrid_lightgbm_model.txt\"\n",
        "meta_file = config.model_dir / \"hybrid_lightgbm_metadata.json\"\n",
        "if not model_file.exists():\n",
        "    errors.append(f\"Missing model file: {model_file}\")\n",
        "if not meta_file.exists():\n",
        "    errors.append(f\"Missing metadata file: {meta_file}\")\n",
        "\n",
        "# 2) Recipe feature file exists\n",
        "recipe_file = config.output_dir / \"enhanced_recipe_features_from_db.csv\"\n",
        "if not recipe_file.exists():\n",
        "    errors.append(f\"Missing recipe features file: {recipe_file}\")\n",
        "\n",
        "# 3) Recommendation output sanity\n",
        "if len(result.get(\"recommendations\", [])) == 0:\n",
        "    errors.append(\"No recommendations returned\")\n",
        "\n",
        "if errors:\n",
        "    print(\"SMOKE TEST: FAIL\")\n",
        "    for e in errors:\n",
        "        print(\" - \", e)\n",
        "else:\n",
        "    print(\"SMOKE TEST: PASS\")\n",
        "    print(f\"Top recommendation: {recs_df.iloc[0]['recipe_name']} (score={recs_df.iloc[0]['score']:.4f})\")\n"
      ]
    }
  ],
  "metadata": {
    "kernelspec": {
      "display_name": ".venv",
      "language": "python",
      "name": "python3"
    },
    "language_info": {
      "codemirror_mode": {
        "name": "ipython",
        "version": 3
      },
      "file_extension": ".py",
      "mimetype": "text/x-python",
      "name": "python",
      "nbconvert_exporter": "python",
      "pygments_lexer": "ipython3",
      "version": "3.12.9"
    }
  },
  "nbformat": 4,
  "nbformat_minor": 2
}
